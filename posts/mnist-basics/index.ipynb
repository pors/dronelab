{
 "cells": [
  {
   "cell_type": "raw",
   "metadata": {
    "vscode": {
     "languageId": "raw"
    }
   },
   "source": [
    "---\n",
    "title: \"MNIST basics - Training a Digit Classifier\"\n",
    "author: \"Mark Pors\"\n",
    "date: \"2025-06-11\"\n",
    "categories: [machine learning, fast.ai]\n",
    "image: MNIST.png\n",
    "description: \"A hands-on exploration of neural network training fundamentals using the MNIST dataset, covering pixel representation, broadcasting, gradient descent, and building basic digit classifiers with PyTorch.\"\n",
    "meta-description: \"Learn how to build a digit classifier from scratch with the MNIST dataset. Explore pixel representation, broadcasting in PyTorch, gradient descent implementation, and training simple neural networks step by step.\"\n",
    "keywords: mnist dataset, pixel representation, broadcasting in pytorch, stochastic gradient descent, digit classification, neural network basics, pytorch tutorial, fastai walkthrough, tensor operations, linear models, relu activation, sigmoid function, mini-batch training\n",
    "open-graph:\n",
    "  title: \"MNIST basics - Training a Digit Classifier\"\n",
    "  description: \"A hands-on exploration of neural network training fundamentals using the MNIST dataset, covering pixel representation, broadcasting, gradient descent, and building basic digit classifiers with PyTorch.\"\n",
    "twitter-card:\n",
    "  title: \"MNIST basics - Training a Digit Classifier\"\n",
    "  description: \"A hands-on exploration of neural network training fundamentals using the MNIST dataset, covering pixel representation, broadcasting, gradient descent, and building basic digit classifiers with PyTorch.\"  \n",
    "  image: MNIST.png\n",
    "  image-alt: \"MNIST basics - Training a Digit Classifier\"\n",
    "  twitter:creator: \"@pors\"\n",
    "  card-style: summary_large_image\n",
    "---"
   ]
  },
  {
   "cell_type": "markdown",
   "metadata": {
    "colab_type": "text",
    "id": "view-in-github"
   },
   "source": [
    "<a href=\"https://colab.research.google.com/github/pors/dronelab/blob/main/posts/mnist-basics/index.ipynb\" target=\"_parent\"><img src=\"https://colab.research.google.com/assets/colab-badge.svg\" alt=\"Open In Colab\"/></a>"
   ]
  },
  {
   "cell_type": "markdown",
   "metadata": {
    "id": "WCLyIPkdfwDL"
   },
   "source": [
    "# Under the Hood: Training a Digit Classifier"
   ]
  },
  {
   "cell_type": "markdown",
   "metadata": {},
   "source": [
    "::: {.callout-note}\n",
    "This notebook is a copy of chapter four of the fastai book [Under the Hood: Training a Digit Classifier](https://github.com/fastai/fastbook/blob/master/04_mnist_basics.ipynb){target=\"_blank\"}. \n",
    "\n",
    "I added and removed code and markdown here and there reflecting my own understanding of the topic. Not very interesting (aka boring) for 99+% of you, it is mostly for my own reference. My approach here is to work through the original notebook, and if I don't understand something fully, I dive into it a bit. My comments are marked with <mark>\\<mark\\>...\\</mark\\></mark>.\n",
    "\n",
    "For drone related stuff, see the [Code, Fly & AI Series](../../series/index.qmd).\n",
    ":::"
   ]
  },
  {
   "cell_type": "markdown",
   "metadata": {
    "id": "YlVW7OsOfwDN"
   },
   "source": [
    "## Pixels: The Foundations of Computer Vision"
   ]
  },
  {
   "cell_type": "code",
   "execution_count": 1,
   "metadata": {
    "id": "8XJSUruxfwDK"
   },
   "outputs": [],
   "source": [
    "from fastai.vision.all import *\n",
    "matplotlib.rc('image', cmap='Greys')"
   ]
  },
  {
   "cell_type": "markdown",
   "metadata": {
    "id": "C3nEe6cDfwDQ"
   },
   "source": [
    "For this initial tutorial we are just going to try to create a model that can classify any image as a 3 or a 7. So let's download a sample of MNIST that contains images of just these digits:"
   ]
  },
  {
   "cell_type": "code",
   "execution_count": 2,
   "metadata": {
    "colab": {
     "base_uri": "https://localhost:8080/",
     "height": 37
    },
    "id": "7MtLIWNmfwDQ",
    "outputId": "e2dd7b78-1d09-4a96-9e88-c8348bc30d03"
   },
   "outputs": [
    {
     "data": {
      "text/html": [
       "\n",
       "<style>\n",
       "    /* Turns off some styling */\n",
       "    progress {\n",
       "        /* gets rid of default border in Firefox and Opera. */\n",
       "        border: none;\n",
       "        /* Needs to be in here for Safari polyfill so background images work as expected. */\n",
       "        background-size: auto;\n",
       "    }\n",
       "    progress:not([value]), progress:not([value])::-webkit-progress-bar {\n",
       "        background: repeating-linear-gradient(45deg, #7e7e7e, #7e7e7e 10px, #5c5c5c 10px, #5c5c5c 20px);\n",
       "    }\n",
       "    .progress-bar-interrupted, .progress-bar-interrupted::-webkit-progress-bar {\n",
       "        background: #F44336;\n",
       "    }\n",
       "</style>\n"
      ],
      "text/plain": [
       "<IPython.core.display.HTML object>"
      ]
     },
     "metadata": {},
     "output_type": "display_data"
    },
    {
     "data": {
      "text/html": [
       "\n",
       "    <div>\n",
       "      <progress value='3219456' class='' max='3214948' style='width:300px; height:20px; vertical-align: middle;'></progress>\n",
       "      100.14% [3219456/3214948 00:01&lt;00:00]\n",
       "    </div>\n",
       "    "
      ],
      "text/plain": [
       "<IPython.core.display.HTML object>"
      ]
     },
     "metadata": {},
     "output_type": "display_data"
    }
   ],
   "source": [
    "path = untar_data(URLs.MNIST_SAMPLE)"
   ]
  },
  {
   "cell_type": "code",
   "execution_count": 3,
   "metadata": {
    "id": "nYW5wd62fwDQ"
   },
   "outputs": [],
   "source": [
    "#hide\n",
    "Path.BASE_PATH = path"
   ]
  },
  {
   "cell_type": "code",
   "execution_count": 5,
   "metadata": {
    "colab": {
     "base_uri": "https://localhost:8080/"
    },
    "id": "_f6GEIbOfwDR",
    "outputId": "c5393658-2cbc-4761-9c5a-ececeb92fbad"
   },
   "outputs": [
    {
     "data": {
      "text/plain": [
       "(#2) [Path('train/7'),Path('train/3')]"
      ]
     },
     "execution_count": 5,
     "metadata": {},
     "output_type": "execute_result"
    }
   ],
   "source": [
    "(path/'train').ls()"
   ]
  },
  {
   "cell_type": "code",
   "execution_count": 6,
   "metadata": {
    "colab": {
     "base_uri": "https://localhost:8080/"
    },
    "id": "158XYAVufwDR",
    "outputId": "3360ee2f-5d66-4a64-83a3-0d273c4ddfb7"
   },
   "outputs": [
    {
     "data": {
      "text/plain": [
       "(#6131) [Path('train/3/10.png'),Path('train/3/10000.png'),Path('train/3/10011.png'),Path('train/3/10031.png'),Path('train/3/10034.png'),Path('train/3/10042.png'),Path('train/3/10052.png'),Path('train/3/1007.png'),Path('train/3/10074.png'),Path('train/3/10091.png')...]"
      ]
     },
     "execution_count": 6,
     "metadata": {},
     "output_type": "execute_result"
    }
   ],
   "source": [
    "threes = (path/'train'/'3').ls().sorted()\n",
    "sevens = (path/'train'/'7').ls().sorted()\n",
    "threes"
   ]
  },
  {
   "cell_type": "code",
   "execution_count": 7,
   "metadata": {
    "id": "drlNihQWfwDR",
    "outputId": "ee69753f-b303-4c2a-d067-a51805d5ed47"
   },
   "outputs": [
    {
     "data": {
      "image/jpeg": "[encoded data removed]",
      "image/png": "[encoded data removed]",
      "text/plain": [
       "<PIL.PngImagePlugin.PngImageFile image mode=L size=28x28>"
      ]
     },
     "execution_count": 7,
     "metadata": {},
     "output_type": "execute_result"
    }
   ],
   "source": [
    "im3_path = threes[1]\n",
    "im3 = Image.open(im3_path)\n",
    "im3"
   ]
  },
  {
   "cell_type": "code",
   "execution_count": null,
   "metadata": {
    "id": "J7Ar1PqYfwDS",
    "outputId": "598cf5d9-9ab8-4ca4-8252-450731e04186"
   },
   "outputs": [
    {
     "data": {
      "text/plain": [
       "array([[  0,   0,   0,   0,   0,   0],\n",
       "       [  0,   0,   0,   0,   0,  29],\n",
       "       [  0,   0,   0,  48, 166, 224],\n",
       "       [  0,  93, 244, 249, 253, 187],\n",
       "       [  0, 107, 253, 253, 230,  48],\n",
       "       [  0,   3,  20,  20,  15,   0]], dtype=uint8)"
      ]
     },
     "execution_count": null,
     "metadata": {},
     "output_type": "execute_result"
    }
   ],
   "source": [
    "array(im3)[4:10,4:10]"
   ]
  },
  {
   "cell_type": "code",
   "execution_count": null,
   "metadata": {
    "id": "bPMctfc0fwDS",
    "outputId": "6de93db1-c035-4392-a4ec-9a94d23f18c6"
   },
   "outputs": [
    {
     "data": {
      "text/plain": [
       "tensor([[  0,   0,   0,   0,   0,   0],\n",
       "        [  0,   0,   0,   0,   0,  29],\n",
       "        [  0,   0,   0,  48, 166, 224],\n",
       "        [  0,  93, 244, 249, 253, 187],\n",
       "        [  0, 107, 253, 253, 230,  48],\n",
       "        [  0,   3,  20,  20,  15,   0]], dtype=torch.uint8)"
      ]
     },
     "execution_count": null,
     "metadata": {},
     "output_type": "execute_result"
    }
   ],
   "source": [
    "tensor(im3)[4:10,4:10]"
   ]
  },
  {
   "cell_type": "code",
   "execution_count": 9,
   "metadata": {
    "id": "9UGaJLo1fwDS",
    "outputId": "122b00d5-51a5-4365-8ae8-2d559780b693"
   },
   "outputs": [
    {
     "data": {
      "text/html": [
       "<style type=\"text/css\">\n",
       "#T_1743a_row0_col0, #T_1743a_row0_col1, #T_1743a_row0_col2, #T_1743a_row0_col3, #T_1743a_row0_col4, #T_1743a_row0_col5, #T_1743a_row0_col6, #T_1743a_row0_col7, #T_1743a_row0_col8, #T_1743a_row0_col9, #T_1743a_row0_col10, #T_1743a_row0_col11, #T_1743a_row0_col12, #T_1743a_row0_col13, #T_1743a_row0_col14, #T_1743a_row0_col15, #T_1743a_row0_col16, #T_1743a_row0_col17, #T_1743a_row1_col0, #T_1743a_row1_col1, #T_1743a_row1_col2, #T_1743a_row1_col3, #T_1743a_row1_col4, #T_1743a_row1_col15, #T_1743a_row1_col16, #T_1743a_row1_col17, #T_1743a_row2_col0, #T_1743a_row2_col1, #T_1743a_row2_col2, #T_1743a_row2_col15, #T_1743a_row2_col16, #T_1743a_row2_col17, #T_1743a_row3_col0, #T_1743a_row3_col15, #T_1743a_row3_col16, #T_1743a_row3_col17, #T_1743a_row4_col0, #T_1743a_row4_col6, #T_1743a_row4_col7, #T_1743a_row4_col8, #T_1743a_row4_col9, #T_1743a_row4_col10, #T_1743a_row4_col15, #T_1743a_row4_col16, #T_1743a_row4_col17, #T_1743a_row5_col0, #T_1743a_row5_col5, #T_1743a_row5_col6, #T_1743a_row5_col7, #T_1743a_row5_col8, #T_1743a_row5_col9, #T_1743a_row5_col15, #T_1743a_row5_col16, #T_1743a_row5_col17, #T_1743a_row6_col0, #T_1743a_row6_col1, #T_1743a_row6_col2, #T_1743a_row6_col3, #T_1743a_row6_col4, #T_1743a_row6_col5, #T_1743a_row6_col6, #T_1743a_row6_col7, #T_1743a_row6_col8, #T_1743a_row6_col9, #T_1743a_row6_col14, #T_1743a_row6_col15, #T_1743a_row6_col16, #T_1743a_row6_col17, #T_1743a_row7_col0, #T_1743a_row7_col1, #T_1743a_row7_col2, #T_1743a_row7_col3, #T_1743a_row7_col4, #T_1743a_row7_col5, #T_1743a_row7_col6, #T_1743a_row7_col13, #T_1743a_row7_col14, #T_1743a_row7_col15, #T_1743a_row7_col16, #T_1743a_row7_col17, #T_1743a_row8_col0, #T_1743a_row8_col1, #T_1743a_row8_col2, #T_1743a_row8_col3, #T_1743a_row8_col4, #T_1743a_row8_col13, #T_1743a_row8_col14, #T_1743a_row8_col15, #T_1743a_row8_col16, #T_1743a_row8_col17, #T_1743a_row9_col0, #T_1743a_row9_col1, #T_1743a_row9_col2, #T_1743a_row9_col3, #T_1743a_row9_col4, #T_1743a_row9_col16, #T_1743a_row9_col17, #T_1743a_row10_col0, #T_1743a_row10_col1, #T_1743a_row10_col2, #T_1743a_row10_col3, #T_1743a_row10_col4, #T_1743a_row10_col5, #T_1743a_row10_col6, #T_1743a_row10_col17 {\n",
       "  font-size: 6pt;\n",
       "  background-color: #ffffff;\n",
       "  color: #000000;\n",
       "}\n",
       "#T_1743a_row1_col5 {\n",
       "  font-size: 6pt;\n",
       "  background-color: #efefef;\n",
       "  color: #000000;\n",
       "}\n",
       "#T_1743a_row1_col6, #T_1743a_row1_col13 {\n",
       "  font-size: 6pt;\n",
       "  background-color: #7c7c7c;\n",
       "  color: #f1f1f1;\n",
       "}\n",
       "#T_1743a_row1_col7 {\n",
       "  font-size: 6pt;\n",
       "  background-color: #4a4a4a;\n",
       "  color: #f1f1f1;\n",
       "}\n",
       "#T_1743a_row1_col8, #T_1743a_row1_col9, #T_1743a_row1_col10, #T_1743a_row2_col5, #T_1743a_row2_col6, #T_1743a_row2_col7, #T_1743a_row2_col11, #T_1743a_row2_col12, #T_1743a_row2_col13, #T_1743a_row3_col4, #T_1743a_row3_col12, #T_1743a_row3_col13, #T_1743a_row4_col1, #T_1743a_row4_col2, #T_1743a_row4_col3, #T_1743a_row4_col12, #T_1743a_row4_col13, #T_1743a_row5_col12, #T_1743a_row6_col11, #T_1743a_row9_col11, #T_1743a_row10_col11, #T_1743a_row10_col12, #T_1743a_row10_col13, #T_1743a_row10_col14, #T_1743a_row10_col15, #T_1743a_row10_col16 {\n",
       "  font-size: 6pt;\n",
       "  background-color: #000000;\n",
       "  color: #f1f1f1;\n",
       "}\n",
       "#T_1743a_row1_col11 {\n",
       "  font-size: 6pt;\n",
       "  background-color: #606060;\n",
       "  color: #f1f1f1;\n",
       "}\n",
       "#T_1743a_row1_col12 {\n",
       "  font-size: 6pt;\n",
       "  background-color: #4d4d4d;\n",
       "  color: #f1f1f1;\n",
       "}\n",
       "#T_1743a_row1_col14 {\n",
       "  font-size: 6pt;\n",
       "  background-color: #bbbbbb;\n",
       "  color: #000000;\n",
       "}\n",
       "#T_1743a_row2_col3 {\n",
       "  font-size: 6pt;\n",
       "  background-color: #e4e4e4;\n",
       "  color: #000000;\n",
       "}\n",
       "#T_1743a_row2_col4, #T_1743a_row8_col6 {\n",
       "  font-size: 6pt;\n",
       "  background-color: #6b6b6b;\n",
       "  color: #f1f1f1;\n",
       "}\n",
       "#T_1743a_row2_col8, #T_1743a_row2_col14, #T_1743a_row3_col14 {\n",
       "  font-size: 6pt;\n",
       "  background-color: #171717;\n",
       "  color: #f1f1f1;\n",
       "}\n",
       "#T_1743a_row2_col9, #T_1743a_row3_col11 {\n",
       "  font-size: 6pt;\n",
       "  background-color: #4b4b4b;\n",
       "  color: #f1f1f1;\n",
       "}\n",
       "#T_1743a_row2_col10, #T_1743a_row7_col10, #T_1743a_row8_col8, #T_1743a_row8_col10, #T_1743a_row9_col8, #T_1743a_row9_col10 {\n",
       "  font-size: 6pt;\n",
       "  background-color: #010101;\n",
       "  color: #f1f1f1;\n",
       "}\n",
       "#T_1743a_row3_col1 {\n",
       "  font-size: 6pt;\n",
       "  background-color: #272727;\n",
       "  color: #f1f1f1;\n",
       "}\n",
       "#T_1743a_row3_col2 {\n",
       "  font-size: 6pt;\n",
       "  background-color: #0a0a0a;\n",
       "  color: #f1f1f1;\n",
       "}\n",
       "#T_1743a_row3_col3 {\n",
       "  font-size: 6pt;\n",
       "  background-color: #050505;\n",
       "  color: #f1f1f1;\n",
       "}\n",
       "#T_1743a_row3_col5 {\n",
       "  font-size: 6pt;\n",
       "  background-color: #333333;\n",
       "  color: #f1f1f1;\n",
       "}\n",
       "#T_1743a_row3_col6 {\n",
       "  font-size: 6pt;\n",
       "  background-color: #e6e6e6;\n",
       "  color: #000000;\n",
       "}\n",
       "#T_1743a_row3_col7, #T_1743a_row3_col10 {\n",
       "  font-size: 6pt;\n",
       "  background-color: #fafafa;\n",
       "  color: #000000;\n",
       "}\n",
       "#T_1743a_row3_col8 {\n",
       "  font-size: 6pt;\n",
       "  background-color: #fbfbfb;\n",
       "  color: #000000;\n",
       "}\n",
       "#T_1743a_row3_col9 {\n",
       "  font-size: 6pt;\n",
       "  background-color: #fdfdfd;\n",
       "  color: #000000;\n",
       "}\n",
       "#T_1743a_row4_col4 {\n",
       "  font-size: 6pt;\n",
       "  background-color: #1b1b1b;\n",
       "  color: #f1f1f1;\n",
       "}\n",
       "#T_1743a_row4_col5 {\n",
       "  font-size: 6pt;\n",
       "  background-color: #e0e0e0;\n",
       "  color: #000000;\n",
       "}\n",
       "#T_1743a_row4_col11 {\n",
       "  font-size: 6pt;\n",
       "  background-color: #4e4e4e;\n",
       "  color: #f1f1f1;\n",
       "}\n",
       "#T_1743a_row4_col14 {\n",
       "  font-size: 6pt;\n",
       "  background-color: #767676;\n",
       "  color: #f1f1f1;\n",
       "}\n",
       "#T_1743a_row5_col1 {\n",
       "  font-size: 6pt;\n",
       "  background-color: #fcfcfc;\n",
       "  color: #000000;\n",
       "}\n",
       "#T_1743a_row5_col2, #T_1743a_row5_col3 {\n",
       "  font-size: 6pt;\n",
       "  background-color: #f6f6f6;\n",
       "  color: #000000;\n",
       "}\n",
       "#T_1743a_row5_col4, #T_1743a_row7_col7 {\n",
       "  font-size: 6pt;\n",
       "  background-color: #f8f8f8;\n",
       "  color: #000000;\n",
       "}\n",
       "#T_1743a_row5_col10, #T_1743a_row10_col7 {\n",
       "  font-size: 6pt;\n",
       "  background-color: #e8e8e8;\n",
       "  color: #000000;\n",
       "}\n",
       "#T_1743a_row5_col11 {\n",
       "  font-size: 6pt;\n",
       "  background-color: #222222;\n",
       "  color: #f1f1f1;\n",
       "}\n",
       "#T_1743a_row5_col13, #T_1743a_row6_col12 {\n",
       "  font-size: 6pt;\n",
       "  background-color: #090909;\n",
       "  color: #f1f1f1;\n",
       "}\n",
       "#T_1743a_row5_col14 {\n",
       "  font-size: 6pt;\n",
       "  background-color: #d0d0d0;\n",
       "  color: #000000;\n",
       "}\n",
       "#T_1743a_row6_col10, #T_1743a_row7_col11, #T_1743a_row9_col6 {\n",
       "  font-size: 6pt;\n",
       "  background-color: #060606;\n",
       "  color: #f1f1f1;\n",
       "}\n",
       "#T_1743a_row6_col13 {\n",
       "  font-size: 6pt;\n",
       "  background-color: #979797;\n",
       "  color: #f1f1f1;\n",
       "}\n",
       "#T_1743a_row7_col8 {\n",
       "  font-size: 6pt;\n",
       "  background-color: #b6b6b6;\n",
       "  color: #000000;\n",
       "}\n",
       "#T_1743a_row7_col9 {\n",
       "  font-size: 6pt;\n",
       "  background-color: #252525;\n",
       "  color: #f1f1f1;\n",
       "}\n",
       "#T_1743a_row7_col12 {\n",
       "  font-size: 6pt;\n",
       "  background-color: #999999;\n",
       "  color: #f1f1f1;\n",
       "}\n",
       "#T_1743a_row8_col5 {\n",
       "  font-size: 6pt;\n",
       "  background-color: #f9f9f9;\n",
       "  color: #000000;\n",
       "}\n",
       "#T_1743a_row8_col7 {\n",
       "  font-size: 6pt;\n",
       "  background-color: #101010;\n",
       "  color: #f1f1f1;\n",
       "}\n",
       "#T_1743a_row8_col9, #T_1743a_row9_col9 {\n",
       "  font-size: 6pt;\n",
       "  background-color: #020202;\n",
       "  color: #f1f1f1;\n",
       "}\n",
       "#T_1743a_row8_col11 {\n",
       "  font-size: 6pt;\n",
       "  background-color: #545454;\n",
       "  color: #f1f1f1;\n",
       "}\n",
       "#T_1743a_row8_col12 {\n",
       "  font-size: 6pt;\n",
       "  background-color: #f1f1f1;\n",
       "  color: #000000;\n",
       "}\n",
       "#T_1743a_row9_col5 {\n",
       "  font-size: 6pt;\n",
       "  background-color: #f7f7f7;\n",
       "  color: #000000;\n",
       "}\n",
       "#T_1743a_row9_col7 {\n",
       "  font-size: 6pt;\n",
       "  background-color: #030303;\n",
       "  color: #f1f1f1;\n",
       "}\n",
       "#T_1743a_row9_col12 {\n",
       "  font-size: 6pt;\n",
       "  background-color: #181818;\n",
       "  color: #f1f1f1;\n",
       "}\n",
       "#T_1743a_row9_col13 {\n",
       "  font-size: 6pt;\n",
       "  background-color: #303030;\n",
       "  color: #f1f1f1;\n",
       "}\n",
       "#T_1743a_row9_col14 {\n",
       "  font-size: 6pt;\n",
       "  background-color: #a9a9a9;\n",
       "  color: #f1f1f1;\n",
       "}\n",
       "#T_1743a_row9_col15 {\n",
       "  font-size: 6pt;\n",
       "  background-color: #fefefe;\n",
       "  color: #000000;\n",
       "}\n",
       "#T_1743a_row10_col8, #T_1743a_row10_col9 {\n",
       "  font-size: 6pt;\n",
       "  background-color: #bababa;\n",
       "  color: #000000;\n",
       "}\n",
       "#T_1743a_row10_col10 {\n",
       "  font-size: 6pt;\n",
       "  background-color: #393939;\n",
       "  color: #f1f1f1;\n",
       "}\n",
       "</style>\n",
       "<table id=\"T_1743a\">\n",
       "  <thead>\n",
       "    <tr>\n",
       "      <th class=\"blank level0\" >&nbsp;</th>\n",
       "      <th id=\"T_1743a_level0_col0\" class=\"col_heading level0 col0\" >0</th>\n",
       "      <th id=\"T_1743a_level0_col1\" class=\"col_heading level0 col1\" >1</th>\n",
       "      <th id=\"T_1743a_level0_col2\" class=\"col_heading level0 col2\" >2</th>\n",
       "      <th id=\"T_1743a_level0_col3\" class=\"col_heading level0 col3\" >3</th>\n",
       "      <th id=\"T_1743a_level0_col4\" class=\"col_heading level0 col4\" >4</th>\n",
       "      <th id=\"T_1743a_level0_col5\" class=\"col_heading level0 col5\" >5</th>\n",
       "      <th id=\"T_1743a_level0_col6\" class=\"col_heading level0 col6\" >6</th>\n",
       "      <th id=\"T_1743a_level0_col7\" class=\"col_heading level0 col7\" >7</th>\n",
       "      <th id=\"T_1743a_level0_col8\" class=\"col_heading level0 col8\" >8</th>\n",
       "      <th id=\"T_1743a_level0_col9\" class=\"col_heading level0 col9\" >9</th>\n",
       "      <th id=\"T_1743a_level0_col10\" class=\"col_heading level0 col10\" >10</th>\n",
       "      <th id=\"T_1743a_level0_col11\" class=\"col_heading level0 col11\" >11</th>\n",
       "      <th id=\"T_1743a_level0_col12\" class=\"col_heading level0 col12\" >12</th>\n",
       "      <th id=\"T_1743a_level0_col13\" class=\"col_heading level0 col13\" >13</th>\n",
       "      <th id=\"T_1743a_level0_col14\" class=\"col_heading level0 col14\" >14</th>\n",
       "      <th id=\"T_1743a_level0_col15\" class=\"col_heading level0 col15\" >15</th>\n",
       "      <th id=\"T_1743a_level0_col16\" class=\"col_heading level0 col16\" >16</th>\n",
       "      <th id=\"T_1743a_level0_col17\" class=\"col_heading level0 col17\" >17</th>\n",
       "    </tr>\n",
       "  </thead>\n",
       "  <tbody>\n",
       "    <tr>\n",
       "      <th id=\"T_1743a_level0_row0\" class=\"row_heading level0 row0\" >0</th>\n",
       "      <td id=\"T_1743a_row0_col0\" class=\"data row0 col0\" >0</td>\n",
       "      <td id=\"T_1743a_row0_col1\" class=\"data row0 col1\" >0</td>\n",
       "      <td id=\"T_1743a_row0_col2\" class=\"data row0 col2\" >0</td>\n",
       "      <td id=\"T_1743a_row0_col3\" class=\"data row0 col3\" >0</td>\n",
       "      <td id=\"T_1743a_row0_col4\" class=\"data row0 col4\" >0</td>\n",
       "      <td id=\"T_1743a_row0_col5\" class=\"data row0 col5\" >0</td>\n",
       "      <td id=\"T_1743a_row0_col6\" class=\"data row0 col6\" >0</td>\n",
       "      <td id=\"T_1743a_row0_col7\" class=\"data row0 col7\" >0</td>\n",
       "      <td id=\"T_1743a_row0_col8\" class=\"data row0 col8\" >0</td>\n",
       "      <td id=\"T_1743a_row0_col9\" class=\"data row0 col9\" >0</td>\n",
       "      <td id=\"T_1743a_row0_col10\" class=\"data row0 col10\" >0</td>\n",
       "      <td id=\"T_1743a_row0_col11\" class=\"data row0 col11\" >0</td>\n",
       "      <td id=\"T_1743a_row0_col12\" class=\"data row0 col12\" >0</td>\n",
       "      <td id=\"T_1743a_row0_col13\" class=\"data row0 col13\" >0</td>\n",
       "      <td id=\"T_1743a_row0_col14\" class=\"data row0 col14\" >0</td>\n",
       "      <td id=\"T_1743a_row0_col15\" class=\"data row0 col15\" >0</td>\n",
       "      <td id=\"T_1743a_row0_col16\" class=\"data row0 col16\" >0</td>\n",
       "      <td id=\"T_1743a_row0_col17\" class=\"data row0 col17\" >0</td>\n",
       "    </tr>\n",
       "    <tr>\n",
       "      <th id=\"T_1743a_level0_row1\" class=\"row_heading level0 row1\" >1</th>\n",
       "      <td id=\"T_1743a_row1_col0\" class=\"data row1 col0\" >0</td>\n",
       "      <td id=\"T_1743a_row1_col1\" class=\"data row1 col1\" >0</td>\n",
       "      <td id=\"T_1743a_row1_col2\" class=\"data row1 col2\" >0</td>\n",
       "      <td id=\"T_1743a_row1_col3\" class=\"data row1 col3\" >0</td>\n",
       "      <td id=\"T_1743a_row1_col4\" class=\"data row1 col4\" >0</td>\n",
       "      <td id=\"T_1743a_row1_col5\" class=\"data row1 col5\" >29</td>\n",
       "      <td id=\"T_1743a_row1_col6\" class=\"data row1 col6\" >150</td>\n",
       "      <td id=\"T_1743a_row1_col7\" class=\"data row1 col7\" >195</td>\n",
       "      <td id=\"T_1743a_row1_col8\" class=\"data row1 col8\" >254</td>\n",
       "      <td id=\"T_1743a_row1_col9\" class=\"data row1 col9\" >255</td>\n",
       "      <td id=\"T_1743a_row1_col10\" class=\"data row1 col10\" >254</td>\n",
       "      <td id=\"T_1743a_row1_col11\" class=\"data row1 col11\" >176</td>\n",
       "      <td id=\"T_1743a_row1_col12\" class=\"data row1 col12\" >193</td>\n",
       "      <td id=\"T_1743a_row1_col13\" class=\"data row1 col13\" >150</td>\n",
       "      <td id=\"T_1743a_row1_col14\" class=\"data row1 col14\" >96</td>\n",
       "      <td id=\"T_1743a_row1_col15\" class=\"data row1 col15\" >0</td>\n",
       "      <td id=\"T_1743a_row1_col16\" class=\"data row1 col16\" >0</td>\n",
       "      <td id=\"T_1743a_row1_col17\" class=\"data row1 col17\" >0</td>\n",
       "    </tr>\n",
       "    <tr>\n",
       "      <th id=\"T_1743a_level0_row2\" class=\"row_heading level0 row2\" >2</th>\n",
       "      <td id=\"T_1743a_row2_col0\" class=\"data row2 col0\" >0</td>\n",
       "      <td id=\"T_1743a_row2_col1\" class=\"data row2 col1\" >0</td>\n",
       "      <td id=\"T_1743a_row2_col2\" class=\"data row2 col2\" >0</td>\n",
       "      <td id=\"T_1743a_row2_col3\" class=\"data row2 col3\" >48</td>\n",
       "      <td id=\"T_1743a_row2_col4\" class=\"data row2 col4\" >166</td>\n",
       "      <td id=\"T_1743a_row2_col5\" class=\"data row2 col5\" >224</td>\n",
       "      <td id=\"T_1743a_row2_col6\" class=\"data row2 col6\" >253</td>\n",
       "      <td id=\"T_1743a_row2_col7\" class=\"data row2 col7\" >253</td>\n",
       "      <td id=\"T_1743a_row2_col8\" class=\"data row2 col8\" >234</td>\n",
       "      <td id=\"T_1743a_row2_col9\" class=\"data row2 col9\" >196</td>\n",
       "      <td id=\"T_1743a_row2_col10\" class=\"data row2 col10\" >253</td>\n",
       "      <td id=\"T_1743a_row2_col11\" class=\"data row2 col11\" >253</td>\n",
       "      <td id=\"T_1743a_row2_col12\" class=\"data row2 col12\" >253</td>\n",
       "      <td id=\"T_1743a_row2_col13\" class=\"data row2 col13\" >253</td>\n",
       "      <td id=\"T_1743a_row2_col14\" class=\"data row2 col14\" >233</td>\n",
       "      <td id=\"T_1743a_row2_col15\" class=\"data row2 col15\" >0</td>\n",
       "      <td id=\"T_1743a_row2_col16\" class=\"data row2 col16\" >0</td>\n",
       "      <td id=\"T_1743a_row2_col17\" class=\"data row2 col17\" >0</td>\n",
       "    </tr>\n",
       "    <tr>\n",
       "      <th id=\"T_1743a_level0_row3\" class=\"row_heading level0 row3\" >3</th>\n",
       "      <td id=\"T_1743a_row3_col0\" class=\"data row3 col0\" >0</td>\n",
       "      <td id=\"T_1743a_row3_col1\" class=\"data row3 col1\" >93</td>\n",
       "      <td id=\"T_1743a_row3_col2\" class=\"data row3 col2\" >244</td>\n",
       "      <td id=\"T_1743a_row3_col3\" class=\"data row3 col3\" >249</td>\n",
       "      <td id=\"T_1743a_row3_col4\" class=\"data row3 col4\" >253</td>\n",
       "      <td id=\"T_1743a_row3_col5\" class=\"data row3 col5\" >187</td>\n",
       "      <td id=\"T_1743a_row3_col6\" class=\"data row3 col6\" >46</td>\n",
       "      <td id=\"T_1743a_row3_col7\" class=\"data row3 col7\" >10</td>\n",
       "      <td id=\"T_1743a_row3_col8\" class=\"data row3 col8\" >8</td>\n",
       "      <td id=\"T_1743a_row3_col9\" class=\"data row3 col9\" >4</td>\n",
       "      <td id=\"T_1743a_row3_col10\" class=\"data row3 col10\" >10</td>\n",
       "      <td id=\"T_1743a_row3_col11\" class=\"data row3 col11\" >194</td>\n",
       "      <td id=\"T_1743a_row3_col12\" class=\"data row3 col12\" >253</td>\n",
       "      <td id=\"T_1743a_row3_col13\" class=\"data row3 col13\" >253</td>\n",
       "      <td id=\"T_1743a_row3_col14\" class=\"data row3 col14\" >233</td>\n",
       "      <td id=\"T_1743a_row3_col15\" class=\"data row3 col15\" >0</td>\n",
       "      <td id=\"T_1743a_row3_col16\" class=\"data row3 col16\" >0</td>\n",
       "      <td id=\"T_1743a_row3_col17\" class=\"data row3 col17\" >0</td>\n",
       "    </tr>\n",
       "    <tr>\n",
       "      <th id=\"T_1743a_level0_row4\" class=\"row_heading level0 row4\" >4</th>\n",
       "      <td id=\"T_1743a_row4_col0\" class=\"data row4 col0\" >0</td>\n",
       "      <td id=\"T_1743a_row4_col1\" class=\"data row4 col1\" >107</td>\n",
       "      <td id=\"T_1743a_row4_col2\" class=\"data row4 col2\" >253</td>\n",
       "      <td id=\"T_1743a_row4_col3\" class=\"data row4 col3\" >253</td>\n",
       "      <td id=\"T_1743a_row4_col4\" class=\"data row4 col4\" >230</td>\n",
       "      <td id=\"T_1743a_row4_col5\" class=\"data row4 col5\" >48</td>\n",
       "      <td id=\"T_1743a_row4_col6\" class=\"data row4 col6\" >0</td>\n",
       "      <td id=\"T_1743a_row4_col7\" class=\"data row4 col7\" >0</td>\n",
       "      <td id=\"T_1743a_row4_col8\" class=\"data row4 col8\" >0</td>\n",
       "      <td id=\"T_1743a_row4_col9\" class=\"data row4 col9\" >0</td>\n",
       "      <td id=\"T_1743a_row4_col10\" class=\"data row4 col10\" >0</td>\n",
       "      <td id=\"T_1743a_row4_col11\" class=\"data row4 col11\" >192</td>\n",
       "      <td id=\"T_1743a_row4_col12\" class=\"data row4 col12\" >253</td>\n",
       "      <td id=\"T_1743a_row4_col13\" class=\"data row4 col13\" >253</td>\n",
       "      <td id=\"T_1743a_row4_col14\" class=\"data row4 col14\" >156</td>\n",
       "      <td id=\"T_1743a_row4_col15\" class=\"data row4 col15\" >0</td>\n",
       "      <td id=\"T_1743a_row4_col16\" class=\"data row4 col16\" >0</td>\n",
       "      <td id=\"T_1743a_row4_col17\" class=\"data row4 col17\" >0</td>\n",
       "    </tr>\n",
       "    <tr>\n",
       "      <th id=\"T_1743a_level0_row5\" class=\"row_heading level0 row5\" >5</th>\n",
       "      <td id=\"T_1743a_row5_col0\" class=\"data row5 col0\" >0</td>\n",
       "      <td id=\"T_1743a_row5_col1\" class=\"data row5 col1\" >3</td>\n",
       "      <td id=\"T_1743a_row5_col2\" class=\"data row5 col2\" >20</td>\n",
       "      <td id=\"T_1743a_row5_col3\" class=\"data row5 col3\" >20</td>\n",
       "      <td id=\"T_1743a_row5_col4\" class=\"data row5 col4\" >15</td>\n",
       "      <td id=\"T_1743a_row5_col5\" class=\"data row5 col5\" >0</td>\n",
       "      <td id=\"T_1743a_row5_col6\" class=\"data row5 col6\" >0</td>\n",
       "      <td id=\"T_1743a_row5_col7\" class=\"data row5 col7\" >0</td>\n",
       "      <td id=\"T_1743a_row5_col8\" class=\"data row5 col8\" >0</td>\n",
       "      <td id=\"T_1743a_row5_col9\" class=\"data row5 col9\" >0</td>\n",
       "      <td id=\"T_1743a_row5_col10\" class=\"data row5 col10\" >43</td>\n",
       "      <td id=\"T_1743a_row5_col11\" class=\"data row5 col11\" >224</td>\n",
       "      <td id=\"T_1743a_row5_col12\" class=\"data row5 col12\" >253</td>\n",
       "      <td id=\"T_1743a_row5_col13\" class=\"data row5 col13\" >245</td>\n",
       "      <td id=\"T_1743a_row5_col14\" class=\"data row5 col14\" >74</td>\n",
       "      <td id=\"T_1743a_row5_col15\" class=\"data row5 col15\" >0</td>\n",
       "      <td id=\"T_1743a_row5_col16\" class=\"data row5 col16\" >0</td>\n",
       "      <td id=\"T_1743a_row5_col17\" class=\"data row5 col17\" >0</td>\n",
       "    </tr>\n",
       "    <tr>\n",
       "      <th id=\"T_1743a_level0_row6\" class=\"row_heading level0 row6\" >6</th>\n",
       "      <td id=\"T_1743a_row6_col0\" class=\"data row6 col0\" >0</td>\n",
       "      <td id=\"T_1743a_row6_col1\" class=\"data row6 col1\" >0</td>\n",
       "      <td id=\"T_1743a_row6_col2\" class=\"data row6 col2\" >0</td>\n",
       "      <td id=\"T_1743a_row6_col3\" class=\"data row6 col3\" >0</td>\n",
       "      <td id=\"T_1743a_row6_col4\" class=\"data row6 col4\" >0</td>\n",
       "      <td id=\"T_1743a_row6_col5\" class=\"data row6 col5\" >0</td>\n",
       "      <td id=\"T_1743a_row6_col6\" class=\"data row6 col6\" >0</td>\n",
       "      <td id=\"T_1743a_row6_col7\" class=\"data row6 col7\" >0</td>\n",
       "      <td id=\"T_1743a_row6_col8\" class=\"data row6 col8\" >0</td>\n",
       "      <td id=\"T_1743a_row6_col9\" class=\"data row6 col9\" >0</td>\n",
       "      <td id=\"T_1743a_row6_col10\" class=\"data row6 col10\" >249</td>\n",
       "      <td id=\"T_1743a_row6_col11\" class=\"data row6 col11\" >253</td>\n",
       "      <td id=\"T_1743a_row6_col12\" class=\"data row6 col12\" >245</td>\n",
       "      <td id=\"T_1743a_row6_col13\" class=\"data row6 col13\" >126</td>\n",
       "      <td id=\"T_1743a_row6_col14\" class=\"data row6 col14\" >0</td>\n",
       "      <td id=\"T_1743a_row6_col15\" class=\"data row6 col15\" >0</td>\n",
       "      <td id=\"T_1743a_row6_col16\" class=\"data row6 col16\" >0</td>\n",
       "      <td id=\"T_1743a_row6_col17\" class=\"data row6 col17\" >0</td>\n",
       "    </tr>\n",
       "    <tr>\n",
       "      <th id=\"T_1743a_level0_row7\" class=\"row_heading level0 row7\" >7</th>\n",
       "      <td id=\"T_1743a_row7_col0\" class=\"data row7 col0\" >0</td>\n",
       "      <td id=\"T_1743a_row7_col1\" class=\"data row7 col1\" >0</td>\n",
       "      <td id=\"T_1743a_row7_col2\" class=\"data row7 col2\" >0</td>\n",
       "      <td id=\"T_1743a_row7_col3\" class=\"data row7 col3\" >0</td>\n",
       "      <td id=\"T_1743a_row7_col4\" class=\"data row7 col4\" >0</td>\n",
       "      <td id=\"T_1743a_row7_col5\" class=\"data row7 col5\" >0</td>\n",
       "      <td id=\"T_1743a_row7_col6\" class=\"data row7 col6\" >0</td>\n",
       "      <td id=\"T_1743a_row7_col7\" class=\"data row7 col7\" >14</td>\n",
       "      <td id=\"T_1743a_row7_col8\" class=\"data row7 col8\" >101</td>\n",
       "      <td id=\"T_1743a_row7_col9\" class=\"data row7 col9\" >223</td>\n",
       "      <td id=\"T_1743a_row7_col10\" class=\"data row7 col10\" >253</td>\n",
       "      <td id=\"T_1743a_row7_col11\" class=\"data row7 col11\" >248</td>\n",
       "      <td id=\"T_1743a_row7_col12\" class=\"data row7 col12\" >124</td>\n",
       "      <td id=\"T_1743a_row7_col13\" class=\"data row7 col13\" >0</td>\n",
       "      <td id=\"T_1743a_row7_col14\" class=\"data row7 col14\" >0</td>\n",
       "      <td id=\"T_1743a_row7_col15\" class=\"data row7 col15\" >0</td>\n",
       "      <td id=\"T_1743a_row7_col16\" class=\"data row7 col16\" >0</td>\n",
       "      <td id=\"T_1743a_row7_col17\" class=\"data row7 col17\" >0</td>\n",
       "    </tr>\n",
       "    <tr>\n",
       "      <th id=\"T_1743a_level0_row8\" class=\"row_heading level0 row8\" >8</th>\n",
       "      <td id=\"T_1743a_row8_col0\" class=\"data row8 col0\" >0</td>\n",
       "      <td id=\"T_1743a_row8_col1\" class=\"data row8 col1\" >0</td>\n",
       "      <td id=\"T_1743a_row8_col2\" class=\"data row8 col2\" >0</td>\n",
       "      <td id=\"T_1743a_row8_col3\" class=\"data row8 col3\" >0</td>\n",
       "      <td id=\"T_1743a_row8_col4\" class=\"data row8 col4\" >0</td>\n",
       "      <td id=\"T_1743a_row8_col5\" class=\"data row8 col5\" >11</td>\n",
       "      <td id=\"T_1743a_row8_col6\" class=\"data row8 col6\" >166</td>\n",
       "      <td id=\"T_1743a_row8_col7\" class=\"data row8 col7\" >239</td>\n",
       "      <td id=\"T_1743a_row8_col8\" class=\"data row8 col8\" >253</td>\n",
       "      <td id=\"T_1743a_row8_col9\" class=\"data row8 col9\" >253</td>\n",
       "      <td id=\"T_1743a_row8_col10\" class=\"data row8 col10\" >253</td>\n",
       "      <td id=\"T_1743a_row8_col11\" class=\"data row8 col11\" >187</td>\n",
       "      <td id=\"T_1743a_row8_col12\" class=\"data row8 col12\" >30</td>\n",
       "      <td id=\"T_1743a_row8_col13\" class=\"data row8 col13\" >0</td>\n",
       "      <td id=\"T_1743a_row8_col14\" class=\"data row8 col14\" >0</td>\n",
       "      <td id=\"T_1743a_row8_col15\" class=\"data row8 col15\" >0</td>\n",
       "      <td id=\"T_1743a_row8_col16\" class=\"data row8 col16\" >0</td>\n",
       "      <td id=\"T_1743a_row8_col17\" class=\"data row8 col17\" >0</td>\n",
       "    </tr>\n",
       "    <tr>\n",
       "      <th id=\"T_1743a_level0_row9\" class=\"row_heading level0 row9\" >9</th>\n",
       "      <td id=\"T_1743a_row9_col0\" class=\"data row9 col0\" >0</td>\n",
       "      <td id=\"T_1743a_row9_col1\" class=\"data row9 col1\" >0</td>\n",
       "      <td id=\"T_1743a_row9_col2\" class=\"data row9 col2\" >0</td>\n",
       "      <td id=\"T_1743a_row9_col3\" class=\"data row9 col3\" >0</td>\n",
       "      <td id=\"T_1743a_row9_col4\" class=\"data row9 col4\" >0</td>\n",
       "      <td id=\"T_1743a_row9_col5\" class=\"data row9 col5\" >16</td>\n",
       "      <td id=\"T_1743a_row9_col6\" class=\"data row9 col6\" >248</td>\n",
       "      <td id=\"T_1743a_row9_col7\" class=\"data row9 col7\" >250</td>\n",
       "      <td id=\"T_1743a_row9_col8\" class=\"data row9 col8\" >253</td>\n",
       "      <td id=\"T_1743a_row9_col9\" class=\"data row9 col9\" >253</td>\n",
       "      <td id=\"T_1743a_row9_col10\" class=\"data row9 col10\" >253</td>\n",
       "      <td id=\"T_1743a_row9_col11\" class=\"data row9 col11\" >253</td>\n",
       "      <td id=\"T_1743a_row9_col12\" class=\"data row9 col12\" >232</td>\n",
       "      <td id=\"T_1743a_row9_col13\" class=\"data row9 col13\" >213</td>\n",
       "      <td id=\"T_1743a_row9_col14\" class=\"data row9 col14\" >111</td>\n",
       "      <td id=\"T_1743a_row9_col15\" class=\"data row9 col15\" >2</td>\n",
       "      <td id=\"T_1743a_row9_col16\" class=\"data row9 col16\" >0</td>\n",
       "      <td id=\"T_1743a_row9_col17\" class=\"data row9 col17\" >0</td>\n",
       "    </tr>\n",
       "    <tr>\n",
       "      <th id=\"T_1743a_level0_row10\" class=\"row_heading level0 row10\" >10</th>\n",
       "      <td id=\"T_1743a_row10_col0\" class=\"data row10 col0\" >0</td>\n",
       "      <td id=\"T_1743a_row10_col1\" class=\"data row10 col1\" >0</td>\n",
       "      <td id=\"T_1743a_row10_col2\" class=\"data row10 col2\" >0</td>\n",
       "      <td id=\"T_1743a_row10_col3\" class=\"data row10 col3\" >0</td>\n",
       "      <td id=\"T_1743a_row10_col4\" class=\"data row10 col4\" >0</td>\n",
       "      <td id=\"T_1743a_row10_col5\" class=\"data row10 col5\" >0</td>\n",
       "      <td id=\"T_1743a_row10_col6\" class=\"data row10 col6\" >0</td>\n",
       "      <td id=\"T_1743a_row10_col7\" class=\"data row10 col7\" >43</td>\n",
       "      <td id=\"T_1743a_row10_col8\" class=\"data row10 col8\" >98</td>\n",
       "      <td id=\"T_1743a_row10_col9\" class=\"data row10 col9\" >98</td>\n",
       "      <td id=\"T_1743a_row10_col10\" class=\"data row10 col10\" >208</td>\n",
       "      <td id=\"T_1743a_row10_col11\" class=\"data row10 col11\" >253</td>\n",
       "      <td id=\"T_1743a_row10_col12\" class=\"data row10 col12\" >253</td>\n",
       "      <td id=\"T_1743a_row10_col13\" class=\"data row10 col13\" >253</td>\n",
       "      <td id=\"T_1743a_row10_col14\" class=\"data row10 col14\" >253</td>\n",
       "      <td id=\"T_1743a_row10_col15\" class=\"data row10 col15\" >187</td>\n",
       "      <td id=\"T_1743a_row10_col16\" class=\"data row10 col16\" >22</td>\n",
       "      <td id=\"T_1743a_row10_col17\" class=\"data row10 col17\" >0</td>\n",
       "    </tr>\n",
       "  </tbody>\n",
       "</table>\n"
      ],
      "text/plain": [
       "<pandas.io.formats.style.Styler at 0x319322760>"
      ]
     },
     "execution_count": 9,
     "metadata": {},
     "output_type": "execute_result"
    }
   ],
   "source": [
    "im3_t = tensor(im3)\n",
    "df = pd.DataFrame(im3_t[4:15,4:22])\n",
    "df.style.set_properties(**{'font-size':'6pt'}).background_gradient('Greys')"
   ]
  },
  {
   "cell_type": "markdown",
   "metadata": {
    "id": "BFSCwSWwfwDS"
   },
   "source": [
    "## First Try: Pixel Similarity"
   ]
  },
  {
   "cell_type": "markdown",
   "metadata": {
    "id": "0sVDrWfJfwDS"
   },
   "source": [
    "> jargon: Baseline: A simple model which you are confident should perform reasonably well. It should be very simple to implement, and very easy to test, so that you can then test each of your improved ideas, and make sure they are always better than your baseline. Without starting with a sensible baseline, it is very difficult to know whether your super-fancy models are actually any good. One good approach to creating a baseline is doing what we have done here: think of a simple, easy-to-implement model. Another good approach is to search around to find other people that have solved similar problems to yours, and download and run their code on your dataset. Ideally, try both of these!"
   ]
  },
  {
   "cell_type": "markdown",
   "metadata": {},
   "source": [
    "<mark>\\<mark\\>I love this advice ^^^. I'll try to follow it as much as possible.\\</mark\\></mark>"
   ]
  },
  {
   "cell_type": "code",
   "execution_count": 10,
   "metadata": {
    "id": "_qVhlVygfwDS",
    "outputId": "47a60c35-ed66-4f0b-abf6-542b983623dd"
   },
   "outputs": [
    {
     "data": {
      "text/plain": [
       "(6131, 6265)"
      ]
     },
     "execution_count": 10,
     "metadata": {},
     "output_type": "execute_result"
    }
   ],
   "source": [
    "seven_tensors = [tensor(Image.open(o)) for o in sevens]\n",
    "three_tensors = [tensor(Image.open(o)) for o in threes]\n",
    "len(three_tensors),len(seven_tensors)"
   ]
  },
  {
   "cell_type": "code",
   "execution_count": 11,
   "metadata": {
    "id": "NseIUTKWfwDT",
    "outputId": "1ba29d9a-1c4b-498d-fcf2-86180c373e26"
   },
   "outputs": [
    {
     "data": {
      "image/png": "[encoded data removed]",
      "text/plain": [
       "<Figure size 100x100 with 1 Axes>"
      ]
     },
     "metadata": {},
     "output_type": "display_data"
    }
   ],
   "source": [
    "show_image(three_tensors[1]);"
   ]
  },
  {
   "cell_type": "code",
   "execution_count": 12,
   "metadata": {
    "id": "WGLwaUTvfwDT",
    "outputId": "9d3597bf-f400-442f-c08b-cc87fd957abd"
   },
   "outputs": [
    {
     "data": {
      "text/plain": [
       "torch.Size([6131, 28, 28])"
      ]
     },
     "execution_count": 12,
     "metadata": {},
     "output_type": "execute_result"
    }
   ],
   "source": [
    "stacked_sevens = torch.stack(seven_tensors).float()/255\n",
    "stacked_threes = torch.stack(three_tensors).float()/255\n",
    "stacked_threes.shape"
   ]
  },
  {
   "cell_type": "code",
   "execution_count": 13,
   "metadata": {
    "id": "Q2enuQn_fwDX",
    "outputId": "0f11346d-4d8e-4d72-9621-4cec4ec8d573"
   },
   "outputs": [
    {
     "data": {
      "text/plain": [
       "3"
      ]
     },
     "execution_count": 13,
     "metadata": {},
     "output_type": "execute_result"
    }
   ],
   "source": [
    "len(stacked_threes.shape)"
   ]
  },
  {
   "cell_type": "code",
   "execution_count": 14,
   "metadata": {
    "id": "kMYwOlW3fwDX",
    "outputId": "0ef247d5-310e-4005-ec38-c00f6641a7cc"
   },
   "outputs": [
    {
     "data": {
      "text/plain": [
       "3"
      ]
     },
     "execution_count": 14,
     "metadata": {},
     "output_type": "execute_result"
    }
   ],
   "source": [
    "stacked_threes.ndim"
   ]
  },
  {
   "cell_type": "code",
   "execution_count": 15,
   "metadata": {
    "id": "JK7PYH-OfwDX",
    "outputId": "68ba5928-6201-451b-8388-0de3b3a4445c"
   },
   "outputs": [
    {
     "data": {
      "image/png": "[encoded data removed]",
      "text/plain": [
       "<Figure size 100x100 with 1 Axes>"
      ]
     },
     "metadata": {},
     "output_type": "display_data"
    }
   ],
   "source": [
    "mean3 = stacked_threes.mean(0)\n",
    "show_image(mean3);"
   ]
  },
  {
   "cell_type": "code",
   "execution_count": 16,
   "metadata": {
    "id": "Z5iRG4TyfwDY",
    "outputId": "3882e076-28b2-400b-9dc7-6102000f1620"
   },
   "outputs": [
    {
     "data": {
      "image/png": "[encoded data removed]",
      "text/plain": [
       "<Figure size 100x100 with 1 Axes>"
      ]
     },
     "metadata": {},
     "output_type": "display_data"
    }
   ],
   "source": [
    "mean7 = stacked_sevens.mean(0)\n",
    "show_image(mean7);"
   ]
  },
  {
   "cell_type": "code",
   "execution_count": 17,
   "metadata": {
    "id": "VlBolDHFfwDY",
    "outputId": "d890a751-9157-4e4a-f931-e78f7cb5fe3e"
   },
   "outputs": [
    {
     "data": {
      "image/png": "[encoded data removed]",
      "text/plain": [
       "<Figure size 100x100 with 1 Axes>"
      ]
     },
     "metadata": {},
     "output_type": "display_data"
    }
   ],
   "source": [
    "a_3 = stacked_threes[1]\n",
    "show_image(a_3);"
   ]
  },
  {
   "cell_type": "markdown",
   "metadata": {
    "id": "XAGv_RjRfwDY"
   },
   "source": [
    "There are two main ways data scientists measure distance in this context:\n",
    "\n",
    "- Take the mean of the *absolute value* of differences (absolute value is the function that replaces negative values with positive values). This is called the *mean absolute difference* or *L1 norm*\n",
    "- Take the mean of the *square* of differences (which makes everything positive) and then take the *square root* (which undoes the squaring). This is called the *root mean squared error* (RMSE) or *L2 norm*.\n"
   ]
  },
  {
   "cell_type": "code",
   "execution_count": 18,
   "metadata": {
    "id": "9_0DVs_UfwDY",
    "outputId": "63f93072-ee00-4fee-bef7-4a790d0f83f9"
   },
   "outputs": [
    {
     "data": {
      "text/plain": [
       "(tensor(0.1114), tensor(0.2021))"
      ]
     },
     "execution_count": 18,
     "metadata": {},
     "output_type": "execute_result"
    }
   ],
   "source": [
    "dist_3_abs = (a_3 - mean3).abs().mean()\n",
    "dist_3_sqr = ((a_3 - mean3)**2).mean().sqrt()\n",
    "dist_3_abs,dist_3_sqr"
   ]
  },
  {
   "cell_type": "code",
   "execution_count": 19,
   "metadata": {
    "id": "xmlD6SsCfwDY",
    "outputId": "5e15a121-9740-41cc-fdbd-a55c043e9fc5"
   },
   "outputs": [
    {
     "data": {
      "text/plain": [
       "(tensor(0.1586), tensor(0.3021))"
      ]
     },
     "execution_count": 19,
     "metadata": {},
     "output_type": "execute_result"
    }
   ],
   "source": [
    "dist_7_abs = (a_3 - mean7).abs().mean()\n",
    "dist_7_sqr = ((a_3 - mean7)**2).mean().sqrt()\n",
    "dist_7_abs,dist_7_sqr"
   ]
  },
  {
   "cell_type": "markdown",
   "metadata": {
    "id": "RrKAcghsfwDZ"
   },
   "source": [
    "PyTorch already provides both of these as *loss functions*. You'll find these inside `torch.nn.functional`, which the PyTorch team recommends importing as `F` (and is available by default under that name in fastai):"
   ]
  },
  {
   "cell_type": "code",
   "execution_count": 20,
   "metadata": {
    "id": "MSqqPFWOfwDZ",
    "outputId": "5d615dff-0185-4bf8-a007-d1abf2b41b85"
   },
   "outputs": [
    {
     "data": {
      "text/plain": [
       "(tensor(0.1586), tensor(0.3021))"
      ]
     },
     "execution_count": 20,
     "metadata": {},
     "output_type": "execute_result"
    }
   ],
   "source": [
    "F.l1_loss(a_3.float(),mean7), F.mse_loss(a_3,mean7).sqrt()"
   ]
  },
  {
   "cell_type": "markdown",
   "metadata": {
    "id": "26p29o4afwDZ"
   },
   "source": [
    "> S: Intuitively, the difference between L1 norm and mean squared error (MSE) is that the latter will penalize bigger mistakes more heavily than the former (and be more lenient with small mistakes)."
   ]
  },
  {
   "cell_type": "markdown",
   "metadata": {
    "id": "N3oQyQ3PfwDd"
   },
   "source": [
    "## Computing Metrics Using Broadcasting"
   ]
  },
  {
   "cell_type": "code",
   "execution_count": 23,
   "metadata": {
    "id": "Z8OWkw3HfwDe",
    "outputId": "ee76ded8-152e-4def-8160-e2f52e1b3202"
   },
   "outputs": [
    {
     "data": {
      "text/plain": [
       "(torch.Size([1010, 28, 28]), torch.Size([1028, 28, 28]))"
      ]
     },
     "execution_count": 23,
     "metadata": {},
     "output_type": "execute_result"
    }
   ],
   "source": [
    "valid_3_tens = torch.stack([tensor(Image.open(o))\n",
    "                            for o in (path/'valid'/'3').ls()])\n",
    "valid_3_tens = valid_3_tens.float()/255\n",
    "valid_7_tens = torch.stack([tensor(Image.open(o))\n",
    "                            for o in (path/'valid'/'7').ls()])\n",
    "valid_7_tens = valid_7_tens.float()/255\n",
    "valid_3_tens.shape,valid_7_tens.shape"
   ]
  },
  {
   "cell_type": "code",
   "execution_count": 24,
   "metadata": {
    "id": "W1e1agB3fwDe",
    "outputId": "a538cb27-05b6-43e2-ca5f-032d0d7d8f96"
   },
   "outputs": [
    {
     "data": {
      "text/plain": [
       "tensor(0.1114)"
      ]
     },
     "execution_count": 24,
     "metadata": {},
     "output_type": "execute_result"
    }
   ],
   "source": [
    "def mnist_distance(a,b): return (a-b).abs().mean((-1,-2))\n",
    "mnist_distance(a_3, mean3)"
   ]
  },
  {
   "cell_type": "markdown",
   "metadata": {},
   "source": [
    "<mark>\\<mark\\>This tuple `(-1,-2)` as an argument for the `mean()` method is not directly clear to me, so let's have a look at the docs:\\</mark\\></mark>"
   ]
  },
  {
   "cell_type": "code",
   "execution_count": 41,
   "metadata": {},
   "outputs": [
    {
     "name": "stdout",
     "output_type": "stream",
     "text": [
      "\u001b[0;31mDocstring:\u001b[0m\n",
      "mean(input, *, dtype=None) -> Tensor\n",
      "\n",
      "Returns the mean value of all elements in the :attr:`input` tensor.\n",
      "\n",
      "Args:\n",
      "    input (Tensor): the input tensor.\n",
      "\n",
      "Keyword args:\n",
      "    dtype (:class:`torch.dtype`, optional): the desired data type of returned tensor.\n",
      "        If specified, the input tensor is casted to :attr:`dtype` before the operation\n",
      "        is performed. This is useful for preventing data type overflows. Default: None.\n",
      "\n",
      "Example::\n",
      "\n",
      "    >>> a = torch.randn(1, 3)\n",
      "    >>> a\n",
      "    tensor([[ 0.2294, -0.5481,  1.3288]])\n",
      "    >>> torch.mean(a)\n",
      "    tensor(0.3367)\n",
      "\n",
      ".. function:: mean(input, dim, keepdim=False, *, dtype=None, out=None) -> Tensor\n",
      "   :noindex:\n",
      "\n",
      "Returns the mean value of each row of the :attr:`input` tensor in the given\n",
      "dimension :attr:`dim`. If :attr:`dim` is a list of dimensions,\n",
      "reduce over all of them.\n",
      "\n",
      "\n",
      "If :attr:`keepdim` is ``True``, the output tensor is of the same size\n",
      "as :attr:`input` except in the dimension(s) :attr:`dim` where it is of size 1.\n",
      "Otherwise, :attr:`dim` is squeezed (see :func:`torch.squeeze`), resulting in the\n",
      "output tensor having 1 (or ``len(dim)``) fewer dimension(s).\n",
      "\n",
      "\n",
      "Args:\n",
      "    input (Tensor): the input tensor.\n",
      "    dim (int or tuple of ints): the dimension or dimensions to reduce.\n",
      "    keepdim (bool): whether the output tensor has :attr:`dim` retained or not.\n",
      "\n",
      "Keyword args:\n",
      "    dtype (:class:`torch.dtype`, optional): the desired data type of returned tensor.\n",
      "        If specified, the input tensor is casted to :attr:`dtype` before the operation\n",
      "        is performed. This is useful for preventing data type overflows. Default: None.\n",
      "    out (Tensor, optional): the output tensor.\n",
      "\n",
      ".. seealso::\n",
      "\n",
      "    :func:`torch.nanmean` computes the mean value of `non-NaN` elements.\n",
      "\n",
      "Example::\n",
      "\n",
      "    >>> a = torch.randn(4, 4)\n",
      "    >>> a\n",
      "    tensor([[-0.3841,  0.6320,  0.4254, -0.7384],\n",
      "            [-0.9644,  1.0131, -0.6549, -1.4279],\n",
      "            [-0.2951, -1.3350, -0.7694,  0.5600],\n",
      "            [ 1.0842, -0.9580,  0.3623,  0.2343]])\n",
      "    >>> torch.mean(a, 1)\n",
      "    tensor([-0.0163, -0.5085, -0.4599,  0.1807])\n",
      "    >>> torch.mean(a, 1, True)\n",
      "    tensor([[-0.0163],\n",
      "            [-0.5085],\n",
      "            [-0.4599],\n",
      "            [ 0.1807]])\n",
      "\u001b[0;31mType:\u001b[0m      builtin_function_or_method"
     ]
    }
   ],
   "source": [
    "?torch.mean"
   ]
  },
  {
   "cell_type": "markdown",
   "metadata": {},
   "source": [
    "<mark>\\<mark\\>So the tuple represents a list of dimensions to reduce. In our case the last and second last dimension, which are the dimensions that contain the image pixel values (and the only two dimensions). In other words, this method calculates the average over all elements in the 24x24 matrix.\\</mark\\></mark>"
   ]
  },
  {
   "cell_type": "code",
   "execution_count": 34,
   "metadata": {},
   "outputs": [
    {
     "data": {
      "text/plain": [
       "torch.Size([28, 28])"
      ]
     },
     "execution_count": 34,
     "metadata": {},
     "output_type": "execute_result"
    }
   ],
   "source": [
    "(a_3-mean3).shape"
   ]
  },
  {
   "cell_type": "code",
   "execution_count": 37,
   "metadata": {},
   "outputs": [
    {
     "data": {
      "text/plain": [
       "tensor(0.1114)"
      ]
     },
     "execution_count": 37,
     "metadata": {},
     "output_type": "execute_result"
    }
   ],
   "source": [
    "sm = (a_3-mean3).abs().sum()\n",
    "avg = sm / (a_3.shape[0] * a_3.shape[1])\n",
    "avg"
   ]
  },
  {
   "cell_type": "markdown",
   "metadata": {},
   "source": [
    "<mark>\\<mark\\>Same result!\\</mark\\></mark>"
   ]
  },
  {
   "cell_type": "code",
   "execution_count": 38,
   "metadata": {
    "id": "fEoKYP9LfwDf",
    "outputId": "df75ce37-f441-4a3a-ae39-9a9b77a32f73"
   },
   "outputs": [
    {
     "data": {
      "text/plain": [
       "(tensor([0.1634, 0.1145, 0.1363,  ..., 0.1105, 0.1111, 0.1640]),\n",
       " torch.Size([1010]))"
      ]
     },
     "execution_count": 38,
     "metadata": {},
     "output_type": "execute_result"
    }
   ],
   "source": [
    "valid_3_dist = mnist_distance(valid_3_tens, mean3)\n",
    "valid_3_dist, valid_3_dist.shape"
   ]
  },
  {
   "cell_type": "markdown",
   "metadata": {},
   "source": [
    "<mark>\\<mark\\>So here we did the same, but as the first argument we pass a whole stack of images from the validation set. What happened? This works because of a feature called broadcasting. Let's dive into that:\\</mark\\></mark>"
   ]
  },
  {
   "cell_type": "code",
   "execution_count": null,
   "metadata": {
    "id": "0Tx-kflIfwDf",
    "outputId": "c0f521e0-b116-4039-9df5-561c6d140ed5"
   },
   "outputs": [
    {
     "name": "stdout",
     "output_type": "stream",
     "text": [
      "valid_3_tens.shape: torch.Size([1010, 28, 28])\n",
      "mean3.shape: torch.Size([28, 28])\n"
     ]
    },
    {
     "data": {
      "text/plain": [
       "torch.Size([1010, 28, 28])"
      ]
     },
     "execution_count": 44,
     "metadata": {},
     "output_type": "execute_result"
    }
   ],
   "source": [
    "print(f\"valid_3_tens.shape: {valid_3_tens.shape}\")\n",
    "print(f\"mean3.shape: {mean3.shape}\")\n",
    "diff = (valid_3_tens-mean3)\n",
    "diff.shape"
   ]
  },
  {
   "cell_type": "markdown",
   "metadata": {},
   "source": [
    "<mark>\\<mark\\>`valid_3_tens` has shape `[1010, 28, 28]`, and `mean3` has shape `[28, 28]`. When we subtract them we don't get an error, but a tensor with shape `[1010, 28, 28]`.\\</mark\\></mark>\n",
    "\n",
    "<mark>\\<mark\\>So the broadcasting feature automatically expands the shape of `mean3` to `[1010, 28, 28]` so that it can be subtracted from `valid_3_tens`. There is a couple of conditions that need to be met for this to made possible. Time to experiment a bit with the help of Gemini:\\</mark\\></mark>"
   ]
  },
  {
   "cell_type": "markdown",
   "metadata": {},
   "source": [
    "> Broadcasting is PyTorch's way of making operations work between tensors of different but compatible shapes. Instead of you writing explicit loops or manually reshaping/copying data, PyTorch does it conceptually (and efficiently in C++/CUDA).\n",
    ">\n",
    "> The Core Idea: Pretend the smaller tensor is expanded (like stretching or copying) to match the shape of the larger tensor, then perform the operation elementwise. Crucially, no actual memory duplication happens.\n",
    ">\n",
    "> Rules for Compatibility: PyTorch compares the shapes of two tensors elementwise, starting from the trailing dimensions (the rightmost ones) and working backward. Two dimensions are compatible if:\n",
    ">\n",
    ">1. They are equal.\n",
    ">2. One of them is 1.\n",
    ">\n",
    "> If these conditions aren't met for any dimension pair, the tensors are not broadcast-compatible, and you'll get an error. If one tensor runs out of dimensions during the comparison (e.g., comparing a 3D tensor to a 2D tensor), dimensions of size 1 are assumed at the beginning of its shape."
   ]
  },
  {
   "cell_type": "markdown",
   "metadata": {},
   "source": [
    "<mark>\\<mark\\>Now that we know that, we can see that in our example, the two rightmost dimensions have the same size [28, 28], and then the mean3 tensor runs out of dimensions, so it is turned into [1, 28, 28], which makes it compatible for broadcasting. Subsequently the mean3 tensor is expanded into [1010, 28, 28], by repeating the same data 1010 times, so we can subtract the two tensors.\\</mark\\></mark>\n",
    "\n",
    "<mark>\\<mark\\>Let's play a bit with that...\\</mark\\></mark>"
   ]
  },
  {
   "cell_type": "code",
   "execution_count": 51,
   "metadata": {},
   "outputs": [
    {
     "name": "stdout",
     "output_type": "stream",
     "text": [
      "A + B result shape: torch.Size([5, 3, 4])\n",
      "A + C result shape: torch.Size([5, 3, 4])\n",
      "B + C result shape: torch.Size([5, 3, 4])\n"
     ]
    }
   ],
   "source": [
    "# Create a tensor A with shape (5, 1, 4)\n",
    "A = torch.zeros(5, 1, 4)\n",
    "# Create a tensor B with shape (5, 3, 1)\n",
    "B = torch.ones(5, 3, 1)\n",
    "# Create a tensor C with shape (3, 4)\n",
    "C = torch.rand(3, 4)\n",
    "\n",
    "# Can we add A and B?\n",
    "try:\n",
    "    result = A + B\n",
    "    print(\"A + B result shape:\", result.shape)\n",
    "except RuntimeError as e:\n",
    "    print(f\"Error adding A and B: {e}\")\n",
    "# Can we add A and C?\n",
    "try:\n",
    "    result = A + C\n",
    "    print(\"A + C result shape:\", result.shape)\n",
    "except RuntimeError as e:\n",
    "    print(f\"Error adding A and C: {e}\")\n",
    "# Can we add B and C?\n",
    "try:\n",
    "    result = B + C\n",
    "    print(\"B + C result shape:\", result.shape)\n",
    "except RuntimeError as e:\n",
    "    print(f\"Error adding B and C: {e}\")\n",
    "    \n",
    "    "
   ]
  },
  {
   "cell_type": "markdown",
   "metadata": {},
   "source": [
    "<mark>\\<mark\\>I think I've got that down now!\\</mark\\></mark>"
   ]
  },
  {
   "cell_type": "code",
   "execution_count": 52,
   "metadata": {
    "id": "51Ipf2nXfwDg"
   },
   "outputs": [],
   "source": [
    "def is_3(x): return mnist_distance(x,mean3) < mnist_distance(x,mean7)"
   ]
  },
  {
   "cell_type": "code",
   "execution_count": 53,
   "metadata": {
    "id": "BDDouP8DfwDg",
    "outputId": "b5ac07c2-aa78-4a84-b0de-ed4d024e4341"
   },
   "outputs": [
    {
     "data": {
      "text/plain": [
       "(tensor(True), tensor(1.))"
      ]
     },
     "execution_count": 53,
     "metadata": {},
     "output_type": "execute_result"
    }
   ],
   "source": [
    "is_3(a_3), is_3(a_3).float()"
   ]
  },
  {
   "cell_type": "code",
   "execution_count": 54,
   "metadata": {
    "id": "6fU2g9mffwDh",
    "outputId": "7db6134e-69ab-4850-8ed8-e76d4ec8b4f5"
   },
   "outputs": [
    {
     "data": {
      "text/plain": [
       "tensor([True, True, True,  ..., True, True, True])"
      ]
     },
     "execution_count": 54,
     "metadata": {},
     "output_type": "execute_result"
    }
   ],
   "source": [
    "is_3(valid_3_tens)"
   ]
  },
  {
   "cell_type": "code",
   "execution_count": 55,
   "metadata": {
    "id": "TN7-CO9-fwDh",
    "outputId": "da9e6481-3dd3-476e-90ee-7e011bff1564"
   },
   "outputs": [
    {
     "data": {
      "text/plain": [
       "(tensor(0.9168), tensor(0.9854), tensor(0.9511))"
      ]
     },
     "execution_count": 55,
     "metadata": {},
     "output_type": "execute_result"
    }
   ],
   "source": [
    "accuracy_3s =      is_3(valid_3_tens).float() .mean()\n",
    "accuracy_7s = (1 - is_3(valid_7_tens).float()).mean()\n",
    "\n",
    "accuracy_3s,accuracy_7s,(accuracy_3s+accuracy_7s)/2"
   ]
  },
  {
   "cell_type": "markdown",
   "metadata": {
    "id": "5ZktIzyWfwDh"
   },
   "source": [
    "## Stochastic Gradient Descent (SGD)"
   ]
  },
  {
   "cell_type": "markdown",
   "metadata": {
    "id": "TbvAvhuDfwDi"
   },
   "source": [
    "To be more specific, here are the steps that we are going to require, to turn this function into a machine learning classifier:\n",
    "\n",
    "1. *Initialize* the weights.\n",
    "1. For each image, use these weights to *predict* whether it appears to be a 3 or a 7.\n",
    "1. Based on these predictions, calculate how good the model is (its *loss*).\n",
    "1. Calculate the *gradient*, which measures for each weight, how changing that weight would change the loss\n",
    "1. *Step* (that is, change) all the weights based on that calculation.\n",
    "1. Go back to the step 2, and *repeat* the process.\n",
    "1. Iterate until you decide to *stop* the training process (for instance, because the model is good enough or you don't want to wait any longer)."
   ]
  },
  {
   "cell_type": "markdown",
   "metadata": {
    "id": "ovTe45RafwDi"
   },
   "source": [
    "These seven steps, illustrated below, are the key to the training of all deep learning models. That deep learning turns out to rely entirely on these steps is extremely surprising and counterintuitive. It's amazing that this process can solve such complex problems. But, as you'll see, it really does!\n",
    "\n",
    "![Gradient descent](./gradient-descent.png)"
   ]
  },
  {
   "cell_type": "markdown",
   "metadata": {
    "id": "Z7eVzcM4fwDi"
   },
   "source": [
    "There are many different ways to do each of these seven steps, and we will be learning about them throughout the rest of this book. These are the details that make a big difference for deep learning practitioners, but it turns out that the general approach to each one generally follows some basic principles. Here are a few guidelines:\n",
    "\n",
    "- Initialize:: We initialize the parameters to random values. This may sound surprising. There are certainly other choices we could make, such as initializing them to the percentage of times that pixel is activated for that category—but since we already know that we have a routine to improve these weights, it turns out that just starting with random weights works perfectly well.\n",
    "- Loss:: This is what Samuel referred to when he spoke of *testing the effectiveness of any current weight assignment in terms of actual performance*. We need some function that will return a number that is small if the performance of the model is good (the standard approach is to treat a small loss as good, and a large loss as bad, although this is just a convention).\n",
    "- Step:: A simple way to figure out whether a weight should be increased a bit, or decreased a bit, would be just to try it: increase the weight by a small amount, and see if the loss goes up or down. Once you find the correct direction, you could then change that amount by a bit more, and a bit less, until you find an amount that works well. However, this is slow! As we will see, the magic of calculus allows us to directly figure out in which direction, and by roughly how much, to change each weight, without having to try all these small changes. The way to do this is by calculating *gradients*. This is just a performance optimization, we would get exactly the same results by using the slower manual process as well.\n",
    "- Stop:: Once we've decided how many epochs to train the model for (a few suggestions for this were given in the earlier list), we apply that decision. This is where that decision is applied. For our digit classifier, we would keep training until the accuracy of the model started getting worse, or we ran out of time."
   ]
  },
  {
   "cell_type": "code",
   "execution_count": 57,
   "metadata": {
    "id": "Hy2nFZ8NfwDi"
   },
   "outputs": [],
   "source": [
    "def f(x): return x**2"
   ]
  },
  {
   "cell_type": "code",
   "execution_count": null,
   "metadata": {
    "id": "vKF0kemQfwDj",
    "outputId": "d98e10a2-0307-41b6-ee92-2468fafdb63a"
   },
   "outputs": [
    {
     "data": {
      "image/png": "[encoded data removed]",
      "text/plain": [
       "<Figure size 432x288 with 1 Axes>"
      ]
     },
     "metadata": {
      "needs_background": "light"
     },
     "output_type": "display_data"
    }
   ],
   "source": [
    "plot_function(f, 'x', 'x**2')"
   ]
  },
  {
   "cell_type": "code",
   "execution_count": null,
   "metadata": {
    "id": "w402-J0jfwDj",
    "outputId": "aa87d9be-88f4-4947-a5c7-60931453dd7f"
   },
   "outputs": [
    {
     "data": {
      "image/png": "[encoded data removed]",
      "text/plain": [
       "<Figure size 432x288 with 1 Axes>"
      ]
     },
     "metadata": {
      "needs_background": "light"
     },
     "output_type": "display_data"
    }
   ],
   "source": [
    "plot_function(f, 'x', 'x**2')\n",
    "plt.scatter(-1.5, f(-1.5), color='red');"
   ]
  },
  {
   "cell_type": "markdown",
   "metadata": {
    "id": "AG71pp6JfwDj"
   },
   "source": [
    "<img alt=\"A graph showing the squared function with the slope at one point\" width=\"400\" src=\"https://github.com/fastai/fastbook/blob/master/images/grad_illustration.svg?raw=1\"/>"
   ]
  },
  {
   "cell_type": "markdown",
   "metadata": {
    "id": "oBZ40iWnfwDj"
   },
   "source": [
    "<img alt=\"An illustration of gradient descent\" width=\"400\" src=\"https://github.com/fastai/fastbook/blob/master/images/chapter2_perfect.svg?raw=1\"/>"
   ]
  },
  {
   "cell_type": "markdown",
   "metadata": {
    "id": "xb0JSPHNfwDj"
   },
   "source": [
    "### Calculating Gradients"
   ]
  },
  {
   "cell_type": "markdown",
   "metadata": {
    "id": "Ip1d8JxIfwDj"
   },
   "source": [
    "One important thing to be aware of is that our function has lots of weights that we need to adjust, so when we calculate the derivative we won't get back one number, but lots of them—a gradient for every weight. But there is nothing mathematically tricky here; you can calculate the derivative with respect to one weight, and treat all the other ones as constant, then repeat that for each other weight. This is how all of the gradients are calculated, for every weight.\n",
    "\n",
    "\n",
    "First, let's pick a tensor value which we want gradients at:"
   ]
  },
  {
   "cell_type": "code",
   "execution_count": 58,
   "metadata": {
    "id": "BCl5H-CjfwDj"
   },
   "outputs": [],
   "source": [
    "xt = tensor(3.).requires_grad_()"
   ]
  },
  {
   "cell_type": "code",
   "execution_count": 59,
   "metadata": {
    "id": "X_zWbSeCfwDj",
    "outputId": "4827e1c8-c423-467b-ecfb-a6b91491f734"
   },
   "outputs": [
    {
     "data": {
      "text/plain": [
       "tensor(9., grad_fn=<PowBackward0>)"
      ]
     },
     "execution_count": 59,
     "metadata": {},
     "output_type": "execute_result"
    }
   ],
   "source": [
    "yt = f(xt)\n",
    "yt"
   ]
  },
  {
   "cell_type": "code",
   "execution_count": 60,
   "metadata": {
    "id": "qWCZCtWkfwDk"
   },
   "outputs": [],
   "source": [
    "yt.backward()"
   ]
  },
  {
   "cell_type": "code",
   "execution_count": 61,
   "metadata": {
    "id": "k86pDgGlfwDk",
    "outputId": "b06a9a97-7aec-4bb8-9928-30b9d198d740"
   },
   "outputs": [
    {
     "data": {
      "text/plain": [
       "tensor(6.)"
      ]
     },
     "execution_count": 61,
     "metadata": {},
     "output_type": "execute_result"
    }
   ],
   "source": [
    "xt.grad"
   ]
  },
  {
   "cell_type": "code",
   "execution_count": 62,
   "metadata": {
    "id": "EMmhYk6dfwDk",
    "outputId": "d552e789-091e-4fbc-f162-198a3d98f605"
   },
   "outputs": [
    {
     "data": {
      "text/plain": [
       "tensor([ 3.,  4., 10.], requires_grad=True)"
      ]
     },
     "execution_count": 62,
     "metadata": {},
     "output_type": "execute_result"
    }
   ],
   "source": [
    "xt = tensor([3.,4.,10.]).requires_grad_()\n",
    "xt"
   ]
  },
  {
   "cell_type": "code",
   "execution_count": 63,
   "metadata": {
    "id": "GAOiEZImfwDk",
    "outputId": "160d94d7-4469-4117-f974-40709a5820f4"
   },
   "outputs": [
    {
     "data": {
      "text/plain": [
       "tensor(125., grad_fn=<SumBackward0>)"
      ]
     },
     "execution_count": 63,
     "metadata": {},
     "output_type": "execute_result"
    }
   ],
   "source": [
    "def f(x): return (x**2).sum()\n",
    "\n",
    "yt = f(xt)\n",
    "yt"
   ]
  },
  {
   "cell_type": "code",
   "execution_count": 64,
   "metadata": {
    "id": "1uxIyOITfwDk",
    "outputId": "502ca637-8d79-45db-9934-59239c3081ee"
   },
   "outputs": [
    {
     "data": {
      "text/plain": [
       "tensor([ 6.,  8., 20.])"
      ]
     },
     "execution_count": 64,
     "metadata": {},
     "output_type": "execute_result"
    }
   ],
   "source": [
    "yt.backward()\n",
    "xt.grad"
   ]
  },
  {
   "cell_type": "markdown",
   "metadata": {
    "id": "FRZIGlg6fwDk"
   },
   "source": [
    "### Stepping With a Learning Rate"
   ]
  },
  {
   "cell_type": "markdown",
   "metadata": {},
   "source": [
    "w -= gradient(w) * lr"
   ]
  },
  {
   "cell_type": "markdown",
   "metadata": {
    "id": "gFWj5ptvfwDm"
   },
   "source": [
    "### An End-to-End SGD Example"
   ]
  },
  {
   "cell_type": "code",
   "execution_count": 65,
   "metadata": {
    "id": "srH3tZKOfwDm",
    "outputId": "8aa24e97-88ba-4625-d100-f809d8bb30f5"
   },
   "outputs": [
    {
     "data": {
      "text/plain": [
       "tensor([ 0.,  1.,  2.,  3.,  4.,  5.,  6.,  7.,  8.,  9., 10., 11., 12., 13.,\n",
       "        14., 15., 16., 17., 18., 19.])"
      ]
     },
     "execution_count": 65,
     "metadata": {},
     "output_type": "execute_result"
    }
   ],
   "source": [
    "time = torch.arange(0,20).float(); time"
   ]
  },
  {
   "cell_type": "code",
   "execution_count": 66,
   "metadata": {
    "id": "brJ59c3ffwDm",
    "outputId": "da844c17-0939-46dc-fb2a-aef5159658cc"
   },
   "outputs": [
    {
     "data": {
      "image/png": "[encoded data removed]",
      "text/plain": [
       "<Figure size 640x480 with 1 Axes>"
      ]
     },
     "metadata": {},
     "output_type": "display_data"
    }
   ],
   "source": [
    "speed = torch.randn(20)*3 + 0.75*(time-9.5)**2 + 1\n",
    "plt.scatter(time,speed);"
   ]
  },
  {
   "cell_type": "code",
   "execution_count": 67,
   "metadata": {
    "id": "QysPHybufwDn"
   },
   "outputs": [],
   "source": [
    "def f(t, params):\n",
    "    a,b,c = params\n",
    "    return a*(t**2) + (b*t) + c"
   ]
  },
  {
   "cell_type": "code",
   "execution_count": 68,
   "metadata": {
    "id": "hQiQIJYrfwDn"
   },
   "outputs": [],
   "source": [
    "def mse(preds, targets): return ((preds-targets)**2).mean()"
   ]
  },
  {
   "cell_type": "markdown",
   "metadata": {
    "id": "WHb_ChsDfwDn"
   },
   "source": [
    "#### Step 1: Initialize the parameters"
   ]
  },
  {
   "cell_type": "code",
   "execution_count": 71,
   "metadata": {
    "id": "BD1EPnmUfwDn"
   },
   "outputs": [],
   "source": [
    "params = torch.randn(3).requires_grad_()"
   ]
  },
  {
   "cell_type": "markdown",
   "metadata": {
    "id": "EIJByVLbfwDn"
   },
   "source": [
    "#### Step 2: Calculate the predictions"
   ]
  },
  {
   "cell_type": "code",
   "execution_count": 72,
   "metadata": {
    "id": "_skl40XCfwDo"
   },
   "outputs": [],
   "source": [
    "preds = f(time, params)"
   ]
  },
  {
   "cell_type": "code",
   "execution_count": 73,
   "metadata": {
    "id": "OPabG_WifwDo"
   },
   "outputs": [],
   "source": [
    "def show_preds(preds, ax=None):\n",
    "    if ax is None: ax=plt.subplots()[1]\n",
    "    ax.scatter(time, speed)\n",
    "    ax.scatter(time, to_np(preds), color='red')\n",
    "    ax.set_ylim(-300,100)"
   ]
  },
  {
   "cell_type": "code",
   "execution_count": 74,
   "metadata": {
    "id": "ZCnHebYvfwDo",
    "outputId": "ab42ec89-3091-45b3-a88b-6ff6afaef035"
   },
   "outputs": [
    {
     "data": {
      "image/png": "[encoded data removed]",
      "text/plain": [
       "<Figure size 640x480 with 1 Axes>"
      ]
     },
     "metadata": {},
     "output_type": "display_data"
    }
   ],
   "source": [
    "show_preds(preds)"
   ]
  },
  {
   "cell_type": "markdown",
   "metadata": {
    "id": "-Tcrp5EffwDo"
   },
   "source": [
    "#### Step 3: Calculate the loss"
   ]
  },
  {
   "cell_type": "code",
   "execution_count": 75,
   "metadata": {
    "id": "KR5V5zMUfwDo",
    "outputId": "e3ad74c6-baa1-4e6d-9d39-d1c947517630"
   },
   "outputs": [
    {
     "data": {
      "text/plain": [
       "tensor(82827.6641, grad_fn=<MeanBackward0>)"
      ]
     },
     "execution_count": 75,
     "metadata": {},
     "output_type": "execute_result"
    }
   ],
   "source": [
    "loss = mse(preds, speed)\n",
    "loss"
   ]
  },
  {
   "cell_type": "markdown",
   "metadata": {
    "id": "I6XveaI-fwDp"
   },
   "source": [
    "#### Step 4: Calculate the gradients"
   ]
  },
  {
   "cell_type": "code",
   "execution_count": 76,
   "metadata": {
    "id": "IpLoEi7IfwDp",
    "outputId": "ace11234-1204-49ce-cd09-512ea01378f2"
   },
   "outputs": [
    {
     "data": {
      "text/plain": [
       "tensor([-96139.7500,  -6190.7744,   -445.6926])"
      ]
     },
     "execution_count": 76,
     "metadata": {},
     "output_type": "execute_result"
    }
   ],
   "source": [
    "loss.backward()\n",
    "params.grad"
   ]
  },
  {
   "cell_type": "code",
   "execution_count": 77,
   "metadata": {
    "id": "RQHHYfIYfwDp",
    "outputId": "3bf8436f-f151-4b43-e9dc-b7e4d8cae1f1"
   },
   "outputs": [
    {
     "data": {
      "text/plain": [
       "tensor([-0.9614, -0.0619, -0.0045])"
      ]
     },
     "execution_count": 77,
     "metadata": {},
     "output_type": "execute_result"
    }
   ],
   "source": [
    "params.grad * 1e-5"
   ]
  },
  {
   "cell_type": "code",
   "execution_count": 78,
   "metadata": {
    "id": "c91AGCjSfwDq",
    "outputId": "eb25f1e0-bc91-4992-81f3-f96615d97b71"
   },
   "outputs": [
    {
     "data": {
      "text/plain": [
       "tensor([-1.4608, -1.6226, -1.2073], requires_grad=True)"
      ]
     },
     "execution_count": 78,
     "metadata": {},
     "output_type": "execute_result"
    }
   ],
   "source": [
    "params"
   ]
  },
  {
   "cell_type": "markdown",
   "metadata": {
    "id": "sxWaHOpRfwDq"
   },
   "source": [
    "#### Step 5: Step the weights."
   ]
  },
  {
   "cell_type": "code",
   "execution_count": 79,
   "metadata": {
    "id": "3pJWxJS-fwDq"
   },
   "outputs": [],
   "source": [
    "lr = 1e-5\n",
    "params.data -= lr * params.grad.data\n",
    "params.grad = None"
   ]
  },
  {
   "cell_type": "code",
   "execution_count": 80,
   "metadata": {
    "id": "FyLtLsIhfwDq",
    "outputId": "0e37f27f-2abc-454e-f2fc-5c002544ebe7"
   },
   "outputs": [
    {
     "data": {
      "text/plain": [
       "tensor(16233.4893, grad_fn=<MeanBackward0>)"
      ]
     },
     "execution_count": 80,
     "metadata": {},
     "output_type": "execute_result"
    }
   ],
   "source": [
    "preds = f(time,params)\n",
    "mse(preds, speed)"
   ]
  },
  {
   "cell_type": "markdown",
   "metadata": {
    "id": "nOz27sedfwDq"
   },
   "source": [
    "And take a look at the plot:"
   ]
  },
  {
   "cell_type": "code",
   "execution_count": 81,
   "metadata": {
    "id": "x6uzDZSRfwDq",
    "outputId": "f4739554-78b8-4ebf-aea0-c4cba04899fd"
   },
   "outputs": [
    {
     "data": {
      "image/png": "[encoded data removed]",
      "text/plain": [
       "<Figure size 640x480 with 1 Axes>"
      ]
     },
     "metadata": {},
     "output_type": "display_data"
    }
   ],
   "source": [
    "show_preds(preds)"
   ]
  },
  {
   "cell_type": "code",
   "execution_count": 82,
   "metadata": {
    "id": "8x7SpB9kfwDr"
   },
   "outputs": [],
   "source": [
    "def apply_step(params, prn=True):\n",
    "    preds = f(time, params)\n",
    "    loss = mse(preds, speed)\n",
    "    loss.backward()\n",
    "    params.data -= lr * params.grad.data\n",
    "    params.grad = None\n",
    "    if prn: print(loss.item())\n",
    "    return preds"
   ]
  },
  {
   "cell_type": "markdown",
   "metadata": {},
   "source": [
    "<mark>\\<mark\\>Remember from my [previous post](../how-does-a-neural-net-really-work/) that we had to do this: `with torch.no_grad(): abc -= abc.grad*0.01`, to make sure PyTorch won't track this operation for calculating the gradient? So, why not here? Because it sets the result directly on the `data` property of `params`. That apparently prevents the gradient function tracker to ignore this operation.\\</mark\\></mark>"
   ]
  },
  {
   "cell_type": "markdown",
   "metadata": {
    "id": "PNTa6Wh4fwDr"
   },
   "source": [
    "#### Step 6: Repeat the process"
   ]
  },
  {
   "cell_type": "code",
   "execution_count": 83,
   "metadata": {
    "id": "ukh9YBXjfwDr",
    "outputId": "fc6a8e1c-fe18-4949-ee58-03846cf33b44"
   },
   "outputs": [
    {
     "name": "stdout",
     "output_type": "stream",
     "text": [
      "16233.4892578125\n",
      "3631.822265625\n",
      "1247.1947021484375\n",
      "795.9425659179688\n",
      "710.5438842773438\n",
      "694.3759765625\n",
      "691.3086547851562\n",
      "690.7203369140625\n",
      "690.6011352539062\n",
      "690.5706787109375\n"
     ]
    }
   ],
   "source": [
    "for i in range(10): apply_step(params)"
   ]
  },
  {
   "cell_type": "code",
   "execution_count": null,
   "metadata": {
    "id": "rE2z7DpPfwDr",
    "outputId": "c3159e5a-c425-46cb-cddd-4f7c1f747636"
   },
   "outputs": [
    {
     "data": {
      "image/png": "[encoded data removed]",
      "text/plain": [
       "<Figure size 864x216 with 4 Axes>"
      ]
     },
     "metadata": {
      "needs_background": "light"
     },
     "output_type": "display_data"
    }
   ],
   "source": [
    "_,axs = plt.subplots(1,4,figsize=(12,3))\n",
    "for ax in axs: show_preds(apply_step(params, False), ax)\n",
    "plt.tight_layout()"
   ]
  },
  {
   "cell_type": "markdown",
   "metadata": {
    "id": "2aCn4POTfwDr"
   },
   "source": [
    "#### Step 7: stop"
   ]
  },
  {
   "cell_type": "markdown",
   "metadata": {
    "id": "4G2u-CYjfwDr"
   },
   "source": [
    "### Summarizing Gradient Descent"
   ]
  },
  {
   "cell_type": "markdown",
   "metadata": {
    "id": "PS-0-G22fwDr"
   },
   "source": [
    "## The MNIST Loss Function"
   ]
  },
  {
   "cell_type": "code",
   "execution_count": 84,
   "metadata": {},
   "outputs": [
    {
     "data": {
      "text/plain": [
       "(torch.Size([6265, 28, 28]), torch.Size([6131, 28, 28]))"
      ]
     },
     "execution_count": 84,
     "metadata": {},
     "output_type": "execute_result"
    }
   ],
   "source": [
    "stacked_sevens.shape, stacked_threes.shape"
   ]
  },
  {
   "cell_type": "code",
   "execution_count": 85,
   "metadata": {
    "id": "sH85e-fvfwDr"
   },
   "outputs": [
    {
     "data": {
      "text/plain": [
       "torch.Size([12396, 784])"
      ]
     },
     "execution_count": 85,
     "metadata": {},
     "output_type": "execute_result"
    }
   ],
   "source": [
    "train_x = torch.cat([stacked_threes, stacked_sevens]).view(-1, 28*28)\n",
    "train_x.shape"
   ]
  },
  {
   "cell_type": "markdown",
   "metadata": {},
   "source": [
    "<mark>\\<mark\\>OK, so each image is now a vector of all 28*28 pixels, and dimension 0 basically points to each single image.\\</mark\\></mark>"
   ]
  },
  {
   "cell_type": "code",
   "execution_count": 94,
   "metadata": {
    "id": "2rJJQ_LhfwDu",
    "outputId": "315a6aee-59d4-4fa3-d94f-2dacbc5f4d1a"
   },
   "outputs": [
    {
     "data": {
      "text/plain": [
       "(torch.Size([12396, 784]), torch.Size([12396, 1]))"
      ]
     },
     "execution_count": 94,
     "metadata": {},
     "output_type": "execute_result"
    }
   ],
   "source": [
    "train_y = tensor([1]*len(threes) + [0]*len(sevens)).unsqueeze(1)\n",
    "train_x.shape,train_y.shape"
   ]
  },
  {
   "cell_type": "markdown",
   "metadata": {},
   "source": [
    "<mark>\\<mark\\>So, `[1]*len(threes) + [0]*len(sevens)` simply creates a vector with all the \"labels\" (dependent variables). Now what is this `unsqueeze(1)` doing? We have a row of labels, but if we want to match them up with `train_x` we need a column. That is exactly what `unsqueeze(1)` does. Let's play a little bit with that:\\</mark\\></mark>"
   ]
  },
  {
   "cell_type": "code",
   "execution_count": 89,
   "metadata": {},
   "outputs": [
    {
     "name": "stdout",
     "output_type": "stream",
     "text": [
      "shape: torch.Size([20])\n"
     ]
    },
    {
     "data": {
      "text/plain": [
       "tensor([1, 1, 1, 1, 1, 1, 1, 1, 1, 1, 0, 0, 0, 0, 0, 0, 0, 0, 0, 0])"
      ]
     },
     "execution_count": 89,
     "metadata": {},
     "output_type": "execute_result"
    }
   ],
   "source": [
    "labels_list = tensor([1]*10 + [0]*10)\n",
    "print(f\"shape: {labels_list.shape}\")\n",
    "labels_list"
   ]
  },
  {
   "cell_type": "code",
   "execution_count": 90,
   "metadata": {},
   "outputs": [
    {
     "name": "stdout",
     "output_type": "stream",
     "text": [
      "shape: torch.Size([20, 1])\n"
     ]
    },
    {
     "data": {
      "text/plain": [
       "tensor([[1],\n",
       "        [1],\n",
       "        [1],\n",
       "        [1],\n",
       "        [1],\n",
       "        [1],\n",
       "        [1],\n",
       "        [1],\n",
       "        [1],\n",
       "        [1],\n",
       "        [0],\n",
       "        [0],\n",
       "        [0],\n",
       "        [0],\n",
       "        [0],\n",
       "        [0],\n",
       "        [0],\n",
       "        [0],\n",
       "        [0],\n",
       "        [0]])"
      ]
     },
     "execution_count": 90,
     "metadata": {},
     "output_type": "execute_result"
    }
   ],
   "source": [
    "labels_list_unsqueezed = labels_list.unsqueeze(1)\n",
    "print(f\"shape: {labels_list_unsqueezed.shape}\")\n",
    "labels_list_unsqueezed"
   ]
  },
  {
   "cell_type": "code",
   "execution_count": 91,
   "metadata": {},
   "outputs": [
    {
     "name": "stdout",
     "output_type": "stream",
     "text": [
      "shape: torch.Size([1, 20])\n"
     ]
    },
    {
     "data": {
      "text/plain": [
       "tensor([[1, 1, 1, 1, 1, 1, 1, 1, 1, 1, 0, 0, 0, 0, 0, 0, 0, 0, 0, 0]])"
      ]
     },
     "execution_count": 91,
     "metadata": {},
     "output_type": "execute_result"
    }
   ],
   "source": [
    "labels_list_unsqueezed0 = labels_list.unsqueeze(0)\n",
    "print(f\"shape: {labels_list_unsqueezed0.shape}\")\n",
    "labels_list_unsqueezed0"
   ]
  },
  {
   "cell_type": "code",
   "execution_count": 92,
   "metadata": {},
   "outputs": [
    {
     "name": "stdout",
     "output_type": "stream",
     "text": [
      "shape: torch.Size([20, 1])\n"
     ]
    },
    {
     "data": {
      "text/plain": [
       "tensor([[1],\n",
       "        [1],\n",
       "        [1],\n",
       "        [1],\n",
       "        [1],\n",
       "        [1],\n",
       "        [1],\n",
       "        [1],\n",
       "        [1],\n",
       "        [1],\n",
       "        [0],\n",
       "        [0],\n",
       "        [0],\n",
       "        [0],\n",
       "        [0],\n",
       "        [0],\n",
       "        [0],\n",
       "        [0],\n",
       "        [0],\n",
       "        [0]])"
      ]
     },
     "execution_count": 92,
     "metadata": {},
     "output_type": "execute_result"
    }
   ],
   "source": [
    "labels_list_unsqueezed0 = labels_list[:, None]\n",
    "print(f\"shape: {labels_list_unsqueezed0.shape}\")\n",
    "labels_list_unsqueezed0"
   ]
  },
  {
   "cell_type": "markdown",
   "metadata": {},
   "source": [
    "<mark>\\<mark\\>Ah, look at that! It is the same as the `[:, None]` trick we saw in the previous post!\\</mark\\></mark>"
   ]
  },
  {
   "cell_type": "markdown",
   "metadata": {
    "id": "YKay15SHfwDu"
   },
   "source": [
    "A `Dataset` in PyTorch is required to return a tuple of `(x,y)` when indexed. Python provides a `zip` function which, when combined with `list`, provides a simple way to get this functionality:"
   ]
  },
  {
   "cell_type": "code",
   "execution_count": 95,
   "metadata": {
    "id": "FvXEhGuxfwDu",
    "outputId": "8c1a9f7c-9215-45b2-8660-39bedfa43012"
   },
   "outputs": [
    {
     "data": {
      "text/plain": [
       "(torch.Size([784]), tensor([1]))"
      ]
     },
     "execution_count": 95,
     "metadata": {},
     "output_type": "execute_result"
    }
   ],
   "source": [
    "dset = list(zip(train_x,train_y))\n",
    "x,y = dset[0]\n",
    "x.shape,y"
   ]
  },
  {
   "cell_type": "markdown",
   "metadata": {},
   "source": [
    "<mark>\\<mark\\>So we now have a nice list of tuples of the form: (image vector, label)\\</mark\\></mark>"
   ]
  },
  {
   "cell_type": "code",
   "execution_count": 96,
   "metadata": {
    "id": "HmUtePi6fwDv"
   },
   "outputs": [],
   "source": [
    "valid_x = torch.cat([valid_3_tens, valid_7_tens]).view(-1, 28*28)\n",
    "valid_y = tensor([1]*len(valid_3_tens) + [0]*len(valid_7_tens)).unsqueeze(1)\n",
    "valid_dset = list(zip(valid_x,valid_y))"
   ]
  },
  {
   "cell_type": "code",
   "execution_count": 97,
   "metadata": {
    "id": "52lWsyyafwDv"
   },
   "outputs": [],
   "source": [
    "def init_params(size, std=1.0): return (torch.randn(size)*std).requires_grad_()"
   ]
  },
  {
   "cell_type": "code",
   "execution_count": 98,
   "metadata": {
    "id": "pFfyoRlbfwDv"
   },
   "outputs": [],
   "source": [
    "weights = init_params((28*28,1))"
   ]
  },
  {
   "cell_type": "code",
   "execution_count": 99,
   "metadata": {
    "id": "HHHxJzIDfwDv"
   },
   "outputs": [],
   "source": [
    "bias = init_params(1)"
   ]
  },
  {
   "cell_type": "markdown",
   "metadata": {
    "id": "WBoOy1g4fwDv"
   },
   "source": [
    "> jargon: Parameters: The _weights_ and _biases_ of a model. The weights are the `w` in the equation `w*x+b`, and the biases are the `b` in that equation."
   ]
  },
  {
   "cell_type": "code",
   "execution_count": 100,
   "metadata": {
    "id": "RoxXKqLffwDw",
    "outputId": "f6cce718-f766-45ca-83cc-73790f558ab4"
   },
   "outputs": [
    {
     "data": {
      "text/plain": [
       "tensor([9.3344], grad_fn=<AddBackward0>)"
      ]
     },
     "execution_count": 100,
     "metadata": {},
     "output_type": "execute_result"
    }
   ],
   "source": [
    "(train_x[0]*weights.T).sum() + bias"
   ]
  },
  {
   "cell_type": "markdown",
   "metadata": {
    "id": "0uPxPOaTfwDw"
   },
   "source": [
    "<img alt=\"Matrix multiplication\" width=\"400\" caption=\"Matrix multiplication\" src=\"https://github.com/fastai/fastbook/blob/master/images/matmul2.svg?raw=1\" id=\"matmul\"/>"
   ]
  },
  {
   "cell_type": "code",
   "execution_count": 101,
   "metadata": {
    "id": "-e5ZFgRdfwDw",
    "outputId": "ccc17977-b2ad-44cf-a96e-bd460bfa4e63"
   },
   "outputs": [
    {
     "data": {
      "text/plain": [
       "tensor([[ 9.3344],\n",
       "        [ 0.8027],\n",
       "        [ 7.0013],\n",
       "        ...,\n",
       "        [-1.8317],\n",
       "        [ 3.5838],\n",
       "        [-4.9083]], grad_fn=<AddBackward0>)"
      ]
     },
     "execution_count": 101,
     "metadata": {},
     "output_type": "execute_result"
    }
   ],
   "source": [
    "def linear1(xb): return xb@weights + bias\n",
    "preds = linear1(train_x)\n",
    "preds"
   ]
  },
  {
   "cell_type": "code",
   "execution_count": 102,
   "metadata": {
    "id": "9UsWOmXbfwDw",
    "outputId": "93922ce2-b8ff-497e-d850-704f58e65d6d"
   },
   "outputs": [
    {
     "data": {
      "text/plain": [
       "tensor([[ True],\n",
       "        [ True],\n",
       "        [ True],\n",
       "        ...,\n",
       "        [ True],\n",
       "        [False],\n",
       "        [ True]])"
      ]
     },
     "execution_count": 102,
     "metadata": {},
     "output_type": "execute_result"
    }
   ],
   "source": [
    "corrects = (preds>0.0).float() == train_y\n",
    "corrects"
   ]
  },
  {
   "cell_type": "code",
   "execution_count": 103,
   "metadata": {
    "id": "BTbTwbaLfwDw",
    "outputId": "fe59df8e-bf61-4e8d-9b65-1c7feea90df2"
   },
   "outputs": [
    {
     "data": {
      "text/plain": [
       "0.6630364656448364"
      ]
     },
     "execution_count": 103,
     "metadata": {},
     "output_type": "execute_result"
    }
   ],
   "source": [
    "corrects.float().mean().item()"
   ]
  },
  {
   "cell_type": "code",
   "execution_count": 104,
   "metadata": {
    "id": "iygG_W9bfwDw"
   },
   "outputs": [],
   "source": [
    "with torch.no_grad(): weights[0] *= 1.0001"
   ]
  },
  {
   "cell_type": "code",
   "execution_count": 105,
   "metadata": {
    "id": "ncUiVynrfwDw",
    "outputId": "13beb12e-c956-47b5-bc18-77f3acc0fc8a"
   },
   "outputs": [
    {
     "data": {
      "text/plain": [
       "0.6630364656448364"
      ]
     },
     "execution_count": 105,
     "metadata": {},
     "output_type": "execute_result"
    }
   ],
   "source": [
    "preds = linear1(train_x)\n",
    "((preds>0.0).float() == train_y).float().mean().item()"
   ]
  },
  {
   "cell_type": "code",
   "execution_count": 106,
   "metadata": {
    "id": "wRtvZ2h9fwDx"
   },
   "outputs": [],
   "source": [
    "trgts  = tensor([1,0,1])\n",
    "prds   = tensor([0.9, 0.4, 0.2])"
   ]
  },
  {
   "cell_type": "code",
   "execution_count": 107,
   "metadata": {
    "id": "0kBekCYGfwDx"
   },
   "outputs": [],
   "source": [
    "def mnist_loss(predictions, targets):\n",
    "    return torch.where(targets==1, 1-predictions, predictions).mean()"
   ]
  },
  {
   "cell_type": "code",
   "execution_count": 108,
   "metadata": {
    "id": "oeljuqXIfwDx",
    "outputId": "81242a2a-08af-41d9-cfe1-ba8daf9bd8f2"
   },
   "outputs": [
    {
     "data": {
      "text/plain": [
       "tensor([0.1000, 0.4000, 0.8000])"
      ]
     },
     "execution_count": 108,
     "metadata": {},
     "output_type": "execute_result"
    }
   ],
   "source": [
    "torch.where(trgts==1, 1-prds, prds)"
   ]
  },
  {
   "cell_type": "code",
   "execution_count": 109,
   "metadata": {
    "id": "wYCZ8u12fwDy",
    "outputId": "f5981d0d-e23f-461f-e6af-5abadb0958d6"
   },
   "outputs": [
    {
     "data": {
      "text/plain": [
       "tensor(0.4333)"
      ]
     },
     "execution_count": 109,
     "metadata": {},
     "output_type": "execute_result"
    }
   ],
   "source": [
    "mnist_loss(prds,trgts)"
   ]
  },
  {
   "cell_type": "code",
   "execution_count": 110,
   "metadata": {
    "id": "cpKAUd8YfwDy",
    "outputId": "ef080630-a0be-4c5b-e695-aa31a542aff6"
   },
   "outputs": [
    {
     "data": {
      "text/plain": [
       "tensor(0.2333)"
      ]
     },
     "execution_count": 110,
     "metadata": {},
     "output_type": "execute_result"
    }
   ],
   "source": [
    "mnist_loss(tensor([0.9, 0.4, 0.8]),trgts)"
   ]
  },
  {
   "cell_type": "markdown",
   "metadata": {
    "id": "e28lacZmfwDy"
   },
   "source": [
    "### Sigmoid"
   ]
  },
  {
   "cell_type": "code",
   "execution_count": 111,
   "metadata": {
    "id": "ORbiSWpbfwDy"
   },
   "outputs": [],
   "source": [
    "def sigmoid(x): return 1/(1+torch.exp(-x))"
   ]
  },
  {
   "cell_type": "code",
   "execution_count": null,
   "metadata": {
    "id": "flpISmGJfwDy",
    "outputId": "cc8dad8b-0aa1-477a-818b-7d56750753c9"
   },
   "outputs": [
    {
     "data": {
      "image/png": "[encoded data removed]",
      "text/plain": [
       "<Figure size 432x288 with 1 Axes>"
      ]
     },
     "metadata": {
      "needs_background": "light"
     },
     "output_type": "display_data"
    }
   ],
   "source": [
    "plot_function(torch.sigmoid, title='Sigmoid', min=-4, max=4)"
   ]
  },
  {
   "cell_type": "code",
   "execution_count": 112,
   "metadata": {
    "id": "Ukm7cIIjfwDz"
   },
   "outputs": [],
   "source": [
    "def mnist_loss(predictions, targets):\n",
    "    predictions = predictions.sigmoid()\n",
    "    return torch.where(targets==1, 1-predictions, predictions).mean()"
   ]
  },
  {
   "cell_type": "markdown",
   "metadata": {
    "id": "vxii34IHfwDz"
   },
   "source": [
    "### SGD and Mini-Batches"
   ]
  },
  {
   "cell_type": "code",
   "execution_count": 113,
   "metadata": {
    "id": "Unm3i7KOfwDz",
    "outputId": "5508d8af-e61c-43a1-c93d-c8a479c75ad6"
   },
   "outputs": [
    {
     "data": {
      "text/plain": [
       "[tensor([11,  4,  8,  9, 10]),\n",
       " tensor([13,  1,  5,  0, 14]),\n",
       " tensor([ 3, 12,  7,  2,  6])]"
      ]
     },
     "execution_count": 113,
     "metadata": {},
     "output_type": "execute_result"
    }
   ],
   "source": [
    "coll = range(15)\n",
    "dl = DataLoader(coll, batch_size=5, shuffle=True)\n",
    "list(dl)"
   ]
  },
  {
   "cell_type": "code",
   "execution_count": 114,
   "metadata": {
    "id": "pWrru8b1fwDz",
    "outputId": "89a1da5b-c69c-414a-b981-d6a27db53159"
   },
   "outputs": [
    {
     "data": {
      "text/plain": [
       "(#26) [(0, 'a'),(1, 'b'),(2, 'c'),(3, 'd'),(4, 'e'),(5, 'f'),(6, 'g'),(7, 'h'),(8, 'i'),(9, 'j')...]"
      ]
     },
     "execution_count": 114,
     "metadata": {},
     "output_type": "execute_result"
    }
   ],
   "source": [
    "ds = L(enumerate(string.ascii_lowercase))\n",
    "ds"
   ]
  },
  {
   "cell_type": "code",
   "execution_count": 115,
   "metadata": {
    "id": "u_-xSrS6fwDz",
    "outputId": "278fb0fb-95f2-4be6-e540-46675a3c325b"
   },
   "outputs": [
    {
     "data": {
      "text/plain": [
       "[(tensor([17, 22, 12, 20,  9,  6]), ('r', 'w', 'm', 'u', 'j', 'g')),\n",
       " (tensor([21,  7, 14, 13,  0, 24]), ('v', 'h', 'o', 'n', 'a', 'y')),\n",
       " (tensor([ 3,  8,  4, 16, 19,  5]), ('d', 'i', 'e', 'q', 't', 'f')),\n",
       " (tensor([18, 11, 25, 23,  2,  1]), ('s', 'l', 'z', 'x', 'c', 'b')),\n",
       " (tensor([10, 15]), ('k', 'p'))]"
      ]
     },
     "execution_count": 115,
     "metadata": {},
     "output_type": "execute_result"
    }
   ],
   "source": [
    "dl = DataLoader(ds, batch_size=6, shuffle=True)\n",
    "list(dl)"
   ]
  },
  {
   "cell_type": "markdown",
   "metadata": {
    "id": "ygfO1XNAfwDz"
   },
   "source": [
    "## Putting It All Together"
   ]
  },
  {
   "cell_type": "code",
   "execution_count": 116,
   "metadata": {
    "id": "7ZjuZSSpfwDz"
   },
   "outputs": [],
   "source": [
    "weights = init_params((28*28,1))\n",
    "bias = init_params(1)"
   ]
  },
  {
   "cell_type": "code",
   "execution_count": 117,
   "metadata": {
    "id": "aItIKvMefwDz",
    "outputId": "b0303e03-745c-4651-cc8f-20a0e0dc5c2a"
   },
   "outputs": [
    {
     "data": {
      "text/plain": [
       "(torch.Size([256, 784]), torch.Size([256, 1]))"
      ]
     },
     "execution_count": 117,
     "metadata": {},
     "output_type": "execute_result"
    }
   ],
   "source": [
    "dl = DataLoader(dset, batch_size=256)\n",
    "xb,yb = first(dl)\n",
    "xb.shape,yb.shape"
   ]
  },
  {
   "cell_type": "code",
   "execution_count": 118,
   "metadata": {
    "id": "m6QL1uDVfwDz"
   },
   "outputs": [],
   "source": [
    "valid_dl = DataLoader(valid_dset, batch_size=256)"
   ]
  },
  {
   "cell_type": "code",
   "execution_count": 119,
   "metadata": {
    "id": "Afqjg3CmfwD0",
    "outputId": "75c7aa4b-f081-4778-bffb-c95f17e773d7"
   },
   "outputs": [
    {
     "data": {
      "text/plain": [
       "torch.Size([4, 784])"
      ]
     },
     "execution_count": 119,
     "metadata": {},
     "output_type": "execute_result"
    }
   ],
   "source": [
    "batch = train_x[:4]\n",
    "batch.shape"
   ]
  },
  {
   "cell_type": "code",
   "execution_count": 120,
   "metadata": {
    "id": "ESS7JUuZfwD0",
    "outputId": "850a3219-4492-4765-f05f-c1a423fefdde"
   },
   "outputs": [
    {
     "data": {
      "text/plain": [
       "tensor([[0.7288],\n",
       "        [2.3106],\n",
       "        [2.0486],\n",
       "        [1.4359]], grad_fn=<AddBackward0>)"
      ]
     },
     "execution_count": 120,
     "metadata": {},
     "output_type": "execute_result"
    }
   ],
   "source": [
    "preds = linear1(batch)\n",
    "preds"
   ]
  },
  {
   "cell_type": "code",
   "execution_count": 121,
   "metadata": {
    "id": "QnJmhBs8fwD0",
    "outputId": "bb093d1b-adaf-4016-eaf1-3a776bf0756c"
   },
   "outputs": [
    {
     "data": {
      "text/plain": [
       "tensor(0.1805, grad_fn=<MeanBackward0>)"
      ]
     },
     "execution_count": 121,
     "metadata": {},
     "output_type": "execute_result"
    }
   ],
   "source": [
    "loss = mnist_loss(preds, train_y[:4])\n",
    "loss"
   ]
  },
  {
   "cell_type": "code",
   "execution_count": 122,
   "metadata": {
    "id": "16KfqcX2fwD0",
    "outputId": "f0548fc4-89c2-4855-a7ee-af6a838ea2bd"
   },
   "outputs": [
    {
     "data": {
      "text/plain": [
       "(torch.Size([784, 1]), tensor(-0.0212), tensor([-0.1395]))"
      ]
     },
     "execution_count": 122,
     "metadata": {},
     "output_type": "execute_result"
    }
   ],
   "source": [
    "loss.backward()\n",
    "weights.grad.shape,weights.grad.mean(),bias.grad"
   ]
  },
  {
   "cell_type": "code",
   "execution_count": 123,
   "metadata": {
    "id": "YRGWtFgxfwD0"
   },
   "outputs": [],
   "source": [
    "def calc_grad(xb, yb, model):\n",
    "    preds = model(xb)\n",
    "    loss = mnist_loss(preds, yb)\n",
    "    loss.backward()"
   ]
  },
  {
   "cell_type": "code",
   "execution_count": 124,
   "metadata": {
    "id": "HTc7iRclfwD0",
    "outputId": "416d15a8-9438-436b-85b9-dd40a8295537"
   },
   "outputs": [
    {
     "data": {
      "text/plain": [
       "(tensor(-0.0424), tensor([-0.2790]))"
      ]
     },
     "execution_count": 124,
     "metadata": {},
     "output_type": "execute_result"
    }
   ],
   "source": [
    "calc_grad(batch, train_y[:4], linear1)\n",
    "weights.grad.mean(),bias.grad"
   ]
  },
  {
   "cell_type": "code",
   "execution_count": 125,
   "metadata": {
    "id": "_v-h2-6VfwD0",
    "outputId": "b4cb86b6-ddc4-4702-b8eb-b37b90ef52a5"
   },
   "outputs": [
    {
     "data": {
      "text/plain": [
       "(tensor(-0.0636), tensor([-0.4185]))"
      ]
     },
     "execution_count": 125,
     "metadata": {},
     "output_type": "execute_result"
    }
   ],
   "source": [
    "calc_grad(batch, train_y[:4], linear1)\n",
    "weights.grad.mean(),bias.grad"
   ]
  },
  {
   "cell_type": "code",
   "execution_count": 126,
   "metadata": {
    "id": "orqAbPlffwD0"
   },
   "outputs": [],
   "source": [
    "weights.grad.zero_()\n",
    "bias.grad.zero_();"
   ]
  },
  {
   "cell_type": "code",
   "execution_count": 127,
   "metadata": {
    "id": "nKab9Mv1fwD0"
   },
   "outputs": [],
   "source": [
    "def train_epoch(model, lr, params):\n",
    "    for xb,yb in dl:\n",
    "        calc_grad(xb, yb, model)\n",
    "        for p in params:\n",
    "            p.data -= p.grad*lr\n",
    "            p.grad.zero_()"
   ]
  },
  {
   "cell_type": "code",
   "execution_count": 128,
   "metadata": {
    "id": "RX5_ZvMYfwD0",
    "outputId": "7b48f81b-ccc5-42ec-d093-a813424506cb"
   },
   "outputs": [
    {
     "data": {
      "text/plain": [
       "tensor([[True],\n",
       "        [True],\n",
       "        [True],\n",
       "        [True]])"
      ]
     },
     "execution_count": 128,
     "metadata": {},
     "output_type": "execute_result"
    }
   ],
   "source": [
    "(preds>0.0).float() == train_y[:4]"
   ]
  },
  {
   "cell_type": "code",
   "execution_count": 129,
   "metadata": {
    "id": "3nESTlinfwD0"
   },
   "outputs": [],
   "source": [
    "def batch_accuracy(xb, yb):\n",
    "    preds = xb.sigmoid()\n",
    "    correct = (preds>0.5) == yb\n",
    "    return correct.float().mean()"
   ]
  },
  {
   "cell_type": "code",
   "execution_count": 130,
   "metadata": {
    "id": "godhBmPffwD1",
    "outputId": "218d0407-3016-48e7-df52-53b24dfa6a19"
   },
   "outputs": [
    {
     "data": {
      "text/plain": [
       "tensor(1.)"
      ]
     },
     "execution_count": 130,
     "metadata": {},
     "output_type": "execute_result"
    }
   ],
   "source": [
    "batch_accuracy(linear1(batch), train_y[:4])"
   ]
  },
  {
   "cell_type": "code",
   "execution_count": 131,
   "metadata": {
    "id": "-Gi6oM1vfwD1"
   },
   "outputs": [],
   "source": [
    "def validate_epoch(model):\n",
    "    accs = [batch_accuracy(model(xb), yb) for xb,yb in valid_dl]\n",
    "    return round(torch.stack(accs).mean().item(), 4)"
   ]
  },
  {
   "cell_type": "code",
   "execution_count": 132,
   "metadata": {
    "id": "_QFv7DOsfwD1",
    "outputId": "d7b15398-25cb-419a-8fbd-586ce3241b7c"
   },
   "outputs": [
    {
     "data": {
      "text/plain": [
       "0.7649"
      ]
     },
     "execution_count": 132,
     "metadata": {},
     "output_type": "execute_result"
    }
   ],
   "source": [
    "validate_epoch(linear1)"
   ]
  },
  {
   "cell_type": "code",
   "execution_count": 133,
   "metadata": {
    "id": "VJxUlJi8fwD1",
    "outputId": "b1f8023e-593d-4bc3-ae60-08cecf07e809"
   },
   "outputs": [
    {
     "data": {
      "text/plain": [
       "0.8446"
      ]
     },
     "execution_count": 133,
     "metadata": {},
     "output_type": "execute_result"
    }
   ],
   "source": [
    "lr = 1.\n",
    "params = weights,bias\n",
    "train_epoch(linear1, lr, params)\n",
    "validate_epoch(linear1)"
   ]
  },
  {
   "cell_type": "code",
   "execution_count": 134,
   "metadata": {
    "id": "zab2haX8fwD1",
    "outputId": "9bb7d42a-4c9c-4a6f-8cb5-898a9aec1615"
   },
   "outputs": [
    {
     "name": "stdout",
     "output_type": "stream",
     "text": [
      "0.9144 0.9369 0.9462 0.9545 0.9589 0.9603 0.9628 0.9638 0.9638 0.9643 0.9657 0.9652 0.9657 0.9677 0.9681 0.9681 0.9696 0.9696 0.9706 0.972 "
     ]
    }
   ],
   "source": [
    "for i in range(20):\n",
    "    train_epoch(linear1, lr, params)\n",
    "    print(validate_epoch(linear1), end=' ')"
   ]
  },
  {
   "cell_type": "markdown",
   "metadata": {
    "id": "FV2RLap9fwD1"
   },
   "source": [
    "### Creating an Optimizer"
   ]
  },
  {
   "cell_type": "code",
   "execution_count": 135,
   "metadata": {
    "id": "beRh-NQOfwD1"
   },
   "outputs": [],
   "source": [
    "linear_model = nn.Linear(28*28,1)"
   ]
  },
  {
   "cell_type": "code",
   "execution_count": 136,
   "metadata": {
    "id": "rnw3F1TtfwD1",
    "outputId": "bbe3cce1-6ac7-4a60-9641-7aec07409b7e"
   },
   "outputs": [
    {
     "data": {
      "text/plain": [
       "(torch.Size([1, 784]), torch.Size([1]))"
      ]
     },
     "execution_count": 136,
     "metadata": {},
     "output_type": "execute_result"
    }
   ],
   "source": [
    "w,b = linear_model.parameters()\n",
    "w.shape,b.shape"
   ]
  },
  {
   "cell_type": "code",
   "execution_count": 137,
   "metadata": {
    "id": "bVwU6wJmfwD1"
   },
   "outputs": [],
   "source": [
    "class BasicOptim:\n",
    "    def __init__(self,params,lr): self.params,self.lr = list(params),lr\n",
    "\n",
    "    def step(self, *args, **kwargs):\n",
    "        for p in self.params: p.data -= p.grad.data * self.lr\n",
    "\n",
    "    def zero_grad(self, *args, **kwargs):\n",
    "        for p in self.params: p.grad = None"
   ]
  },
  {
   "cell_type": "code",
   "execution_count": 138,
   "metadata": {
    "id": "YVvcFBXnfwD2"
   },
   "outputs": [],
   "source": [
    "opt = BasicOptim(linear_model.parameters(), lr)"
   ]
  },
  {
   "cell_type": "code",
   "execution_count": 139,
   "metadata": {
    "id": "Cct2KKXffwD2"
   },
   "outputs": [],
   "source": [
    "def train_epoch(model):\n",
    "    for xb,yb in dl:\n",
    "        calc_grad(xb, yb, model)\n",
    "        opt.step()\n",
    "        opt.zero_grad()"
   ]
  },
  {
   "cell_type": "code",
   "execution_count": 140,
   "metadata": {
    "id": "4CU3NG_efwD2",
    "outputId": "7eb5a6bd-adef-4f94-d464-6f41ada4492b"
   },
   "outputs": [
    {
     "data": {
      "text/plain": [
       "0.6292"
      ]
     },
     "execution_count": 140,
     "metadata": {},
     "output_type": "execute_result"
    }
   ],
   "source": [
    "validate_epoch(linear_model)"
   ]
  },
  {
   "cell_type": "code",
   "execution_count": 141,
   "metadata": {
    "id": "_lET4OiLfwD2"
   },
   "outputs": [],
   "source": [
    "def train_model(model, epochs):\n",
    "    for i in range(epochs):\n",
    "        train_epoch(model)\n",
    "        print(validate_epoch(model), end=' ')"
   ]
  },
  {
   "cell_type": "code",
   "execution_count": 142,
   "metadata": {
    "id": "s5DxCah-fwD2",
    "outputId": "7fa40c27-a23c-4181-e616-e489f28c5b01"
   },
   "outputs": [
    {
     "name": "stdout",
     "output_type": "stream",
     "text": [
      "0.4932 0.8052 0.8525 0.917 0.9346 0.9487 0.957 0.9624 0.9658 0.9678 0.9692 0.9717 0.9736 0.9746 0.9761 0.9765 0.9775 0.978 0.978 0.979 "
     ]
    }
   ],
   "source": [
    "train_model(linear_model, 20)"
   ]
  },
  {
   "cell_type": "code",
   "execution_count": 143,
   "metadata": {
    "id": "iXzjS29PfwD3",
    "outputId": "bc32f893-4ad0-4dc3-8ede-0f23dea4355a"
   },
   "outputs": [
    {
     "name": "stdout",
     "output_type": "stream",
     "text": [
      "0.4932 0.7759 0.8603 0.9179 0.9346 0.9516 0.957 0.9634 0.9658 0.9673 0.9697 0.9717 0.9746 0.9751 0.9761 0.977 0.9775 0.978 0.978 0.9785 "
     ]
    }
   ],
   "source": [
    "linear_model = nn.Linear(28*28,1)\n",
    "opt = SGD(linear_model.parameters(), lr)\n",
    "train_model(linear_model, 20)"
   ]
  },
  {
   "cell_type": "code",
   "execution_count": 144,
   "metadata": {
    "id": "5lvY8c96fwD3"
   },
   "outputs": [],
   "source": [
    "dls = DataLoaders(dl, valid_dl)"
   ]
  },
  {
   "cell_type": "code",
   "execution_count": 145,
   "metadata": {
    "id": "uIa3NaedfwD3"
   },
   "outputs": [],
   "source": [
    "learn = Learner(dls, nn.Linear(28*28,1), opt_func=SGD,\n",
    "                loss_func=mnist_loss, metrics=batch_accuracy)"
   ]
  },
  {
   "cell_type": "code",
   "execution_count": 146,
   "metadata": {
    "id": "tjnyCWvifwD3",
    "outputId": "7c61af77-bdc5-4360-d785-14e65c6895b1"
   },
   "outputs": [
    {
     "data": {
      "text/html": [
       "\n",
       "<style>\n",
       "    /* Turns off some styling */\n",
       "    progress {\n",
       "        /* gets rid of default border in Firefox and Opera. */\n",
       "        border: none;\n",
       "        /* Needs to be in here for Safari polyfill so background images work as expected. */\n",
       "        background-size: auto;\n",
       "    }\n",
       "    progress:not([value]), progress:not([value])::-webkit-progress-bar {\n",
       "        background: repeating-linear-gradient(45deg, #7e7e7e, #7e7e7e 10px, #5c5c5c 10px, #5c5c5c 20px);\n",
       "    }\n",
       "    .progress-bar-interrupted, .progress-bar-interrupted::-webkit-progress-bar {\n",
       "        background: #F44336;\n",
       "    }\n",
       "</style>\n"
      ],
      "text/plain": [
       "<IPython.core.display.HTML object>"
      ]
     },
     "metadata": {},
     "output_type": "display_data"
    },
    {
     "data": {
      "text/html": [
       "<table border=\"1\" class=\"dataframe\">\n",
       "  <thead>\n",
       "    <tr style=\"text-align: left;\">\n",
       "      <th>epoch</th>\n",
       "      <th>train_loss</th>\n",
       "      <th>valid_loss</th>\n",
       "      <th>batch_accuracy</th>\n",
       "      <th>time</th>\n",
       "    </tr>\n",
       "  </thead>\n",
       "  <tbody>\n",
       "    <tr>\n",
       "      <td>0</td>\n",
       "      <td>0.636803</td>\n",
       "      <td>0.503571</td>\n",
       "      <td>0.495584</td>\n",
       "      <td>00:00</td>\n",
       "    </tr>\n",
       "    <tr>\n",
       "      <td>1</td>\n",
       "      <td>0.569794</td>\n",
       "      <td>0.217214</td>\n",
       "      <td>0.807655</td>\n",
       "      <td>00:00</td>\n",
       "    </tr>\n",
       "    <tr>\n",
       "      <td>2</td>\n",
       "      <td>0.208501</td>\n",
       "      <td>0.165452</td>\n",
       "      <td>0.851816</td>\n",
       "      <td>00:00</td>\n",
       "    </tr>\n",
       "    <tr>\n",
       "      <td>3</td>\n",
       "      <td>0.090031</td>\n",
       "      <td>0.101155</td>\n",
       "      <td>0.914622</td>\n",
       "      <td>00:00</td>\n",
       "    </tr>\n",
       "    <tr>\n",
       "      <td>4</td>\n",
       "      <td>0.046536</td>\n",
       "      <td>0.074791</td>\n",
       "      <td>0.935231</td>\n",
       "      <td>00:00</td>\n",
       "    </tr>\n",
       "    <tr>\n",
       "      <td>5</td>\n",
       "      <td>0.029671</td>\n",
       "      <td>0.060303</td>\n",
       "      <td>0.948970</td>\n",
       "      <td>00:00</td>\n",
       "    </tr>\n",
       "    <tr>\n",
       "      <td>6</td>\n",
       "      <td>0.022822</td>\n",
       "      <td>0.051260</td>\n",
       "      <td>0.956330</td>\n",
       "      <td>00:00</td>\n",
       "    </tr>\n",
       "    <tr>\n",
       "      <td>7</td>\n",
       "      <td>0.019821</td>\n",
       "      <td>0.045237</td>\n",
       "      <td>0.962218</td>\n",
       "      <td>00:00</td>\n",
       "    </tr>\n",
       "    <tr>\n",
       "      <td>8</td>\n",
       "      <td>0.018322</td>\n",
       "      <td>0.040985</td>\n",
       "      <td>0.965653</td>\n",
       "      <td>00:00</td>\n",
       "    </tr>\n",
       "    <tr>\n",
       "      <td>9</td>\n",
       "      <td>0.017435</td>\n",
       "      <td>0.037833</td>\n",
       "      <td>0.968106</td>\n",
       "      <td>00:00</td>\n",
       "    </tr>\n",
       "  </tbody>\n",
       "</table>"
      ],
      "text/plain": [
       "<IPython.core.display.HTML object>"
      ]
     },
     "metadata": {},
     "output_type": "display_data"
    }
   ],
   "source": [
    "learn.fit(10, lr=lr)"
   ]
  },
  {
   "cell_type": "markdown",
   "metadata": {
    "id": "B-0QNHHKfwD3"
   },
   "source": [
    "## Adding a Nonlinearity"
   ]
  },
  {
   "cell_type": "code",
   "execution_count": null,
   "metadata": {
    "id": "eoRULGUjfwD3"
   },
   "outputs": [],
   "source": [
    "def simple_net(xb):\n",
    "    res = xb@w1 + b1\n",
    "    res = res.max(tensor(0.0))\n",
    "    res = res@w2 + b2\n",
    "    return res"
   ]
  },
  {
   "cell_type": "code",
   "execution_count": null,
   "metadata": {
    "id": "Zw3jjPB0fwD3"
   },
   "outputs": [],
   "source": [
    "w1 = init_params((28*28,30))\n",
    "b1 = init_params(30)\n",
    "w2 = init_params((30,1))\n",
    "b2 = init_params(1)"
   ]
  },
  {
   "cell_type": "markdown",
   "metadata": {
    "id": "O99F1JsCfwD3"
   },
   "source": [
    "The key point about this is that `w1` has 30 output activations (which means that `w2` must have 30 input activations, so they match). That means that the first layer can construct 30 different features, each representing some different mix of pixels. You can change that `30` to anything you like, to make the model more or less complex.\n",
    "\n",
    "<mark>\\<mark\\>So, the `w1` matrix has 30 rows and 784 columns, which means that it can take a vector of 784 pixel values as input (the image we want to classify), and return a vector of 30 values. The `w2` matrix has 1 row and 30 columns, which means that it can take a vector of 30 values as input, and return a scalar (which is the probability).\\</mark\\></mark>\n",
    "\n",
    "<mark>\\<mark\\>These 30 output activations are synonym to a layer of 30 nodes. Each of these 30 nodes has it's own set of 784 weights that we try to optimize. So more nodes means more possible feature detectors or pattern recognizers that our model can learn. We can think of each of those 30 nodes as becoming specialized in detecting different aspects of what makes a digit look like a \"3\" versus a \"7\".\\</mark\\></mark>\n",
    "\n",
    "<mark>\\<mark\\>I like how Claude said it while explaining this to me:\\</mark\\></mark>\n",
    "\n",
    "> Here's a helpful way to think about it: imagine you're trying to distinguish between cats and dogs, and you have 30 friends helping you. Each friend specializes in looking for different features - one focuses on ear shape, another on tail length, another on fur texture, and so on. Each friend gives you their opinion (a number between, say, -10 and +10), and then you have to weigh all 30 opinions to make your final decision. That's essentially what your two-layer network is doing.\n",
    ">\n",
    "> The beauty is that during training, the network automatically figures out what each of those 30 \"friends\" should specialize in looking for. You don't have to tell it \"node 1, you focus on curves\" - it discovers these useful features on its own through the optimization process.\n",
    "\n",
    "<mark>\\<mark\\>I was then wondering: what if some or all nodes try to specialize in the same feature? There are two reasons why this is not likely:</mark>\n",
    "\n",
    "<mark>1. We initialize the weights randomly, so each node starts with a different perspective.</mark>\n",
    "\n",
    "<mark>2. The optimization process will adjust the weights in such a way that it minimizes the loss function, which means that if two nodes try to learn the same feature, one of them will end up being less effective and will be encouraged to learn something else.\\</mark\\></mark>\n",
    "\n",
    "<mark>\\<mark\\>I still have to think hard to get the matrix juggling down, so let's create a super-tiny net:\\</mark\\></mark>\n"
   ]
  },
  {
   "cell_type": "code",
   "execution_count": 159,
   "metadata": {},
   "outputs": [
    {
     "name": "stdout",
     "output_type": "stream",
     "text": [
      "Weights torch.Size([3, 4]): tensor([[ 0.0777,  0.2776,  0.4277,  0.0007],\n",
      "        [-0.4654, -0.0821,  0.1229,  0.2742],\n",
      "        [ 0.1707, -0.2651,  0.3052,  0.1164]]), Bias torch.Size([3]): tensor([-0.1928, -0.2575,  0.3110])\n",
      "Output shape: torch.Size([3]), Output: tensor([1.7258, 0.5783, 1.3328])\n",
      "Output after ReLU shape: torch.Size([3]), Output: tensor([1.7258, 0.5783, 1.3328])\n",
      "Final output shape: torch.Size([1]), Final output: tensor([-0.2682])\n",
      "Final output after sigmoid shape: torch.Size([1]), Final output: tensor([0.4333])\n"
     ]
    }
   ],
   "source": [
    "# Our tiny network layer\n",
    "layer = nn.Linear(4, 3)  # 4 inputs (2x2 image flattened), 3 outputs\n",
    "\n",
    "# Sample 2x2 image\n",
    "image = tensor([[1.0, 2.0],\n",
    "                [3.0, 4.0]])\n",
    "\n",
    "# Flatten the image to a column vector\n",
    "x = image.flatten()  # x = [1.0, 2.0, 3.0, 4.0] with shape [4]\n",
    "\n",
    "# The weights and biases are already initialized by nn.Linear\n",
    "w = layer.weight  # shape [3, 4]\n",
    "b = layer.bias      # shape [3]\n",
    "\n",
    "print(f\"Weights {w.shape}: {w.data}, Bias {b.shape}: {b.data}\")\n",
    "\n",
    "# Matrix multiplication: w @ x (shape [3,4] @ [4] = [3])\n",
    "output = w @ x + b\n",
    "print(f\"Output shape: {output.shape}, Output: {output.data}\")\n",
    "\n",
    "# Now apply ReLU activation\n",
    "output2 = F.relu(output)\n",
    "print(f\"Output after ReLU shape: {output2.shape}, Output: {output2.data}\")\n",
    "\n",
    "# Last layer\n",
    "layer2 = nn.Linear(3, 1)  # 3 inputs, 1 output\n",
    "# Weights and biases for the last layer\n",
    "w2 = layer2.weight  # shape [1, 3]\n",
    "b2 = layer2.bias      # shape [1]\n",
    "# Final output\n",
    "final_output = w2 @ output2 + b2\n",
    "print(f\"Final output shape: {final_output.shape}, Final output: {final_output.data}\")\n",
    "# Final output after sigmoid activation\n",
    "final_output_sigmoid = torch.sigmoid(final_output)\n",
    "print(f\"Final output after sigmoid shape: {final_output_sigmoid.shape}, Final output: {final_output_sigmoid.data}\")"
   ]
  },
  {
   "cell_type": "markdown",
   "metadata": {},
   "source": [
    "<mark>\\<mark>This tiny model is visualized below. The first layer has 3 nodes and the second linear layer has 1 node.\\</mark></mark>"
   ]
  },
  {
   "cell_type": "markdown",
   "metadata": {},
   "source": [
    "![Super-tiny net. Made with [NN-SVG](https://alexlenail.me/NN-SVG/index.html){target=\"_blank\"}](./super-tiny.png)"
   ]
  },
  {
   "cell_type": "code",
   "execution_count": null,
   "metadata": {
    "id": "4bLrZMn7fwD3",
    "outputId": "11c5fd28-a441-4c5a-da21-67cf34e6fd23"
   },
   "outputs": [
    {
     "data": {
      "image/png": "[encoded data removed]",
      "text/plain": [
       "<Figure size 432x288 with 1 Axes>"
      ]
     },
     "metadata": {
      "needs_background": "light"
     },
     "output_type": "display_data"
    }
   ],
   "source": [
    "plot_function(F.relu)"
   ]
  },
  {
   "cell_type": "code",
   "execution_count": 160,
   "metadata": {
    "id": "mu8kdRMtfwD3"
   },
   "outputs": [],
   "source": [
    "simple_net = nn.Sequential(\n",
    "    nn.Linear(28*28,30),\n",
    "    nn.ReLU(),\n",
    "    nn.Linear(30,1)\n",
    ")"
   ]
  },
  {
   "cell_type": "code",
   "execution_count": 161,
   "metadata": {
    "id": "rpNg-XGcfwD4"
   },
   "outputs": [],
   "source": [
    "learn = Learner(dls, simple_net, opt_func=SGD,\n",
    "                loss_func=mnist_loss, metrics=batch_accuracy)"
   ]
  },
  {
   "cell_type": "code",
   "execution_count": null,
   "metadata": {
    "id": "eA5grcUzfwD4",
    "outputId": "985cd0b9-576f-4ff4-8467-d0be68ef488d"
   },
   "outputs": [
    {
     "data": {
      "text/html": [
       "\n",
       "<style>\n",
       "    /* Turns off some styling */\n",
       "    progress {\n",
       "        /* gets rid of default border in Firefox and Opera. */\n",
       "        border: none;\n",
       "        /* Needs to be in here for Safari polyfill so background images work as expected. */\n",
       "        background-size: auto;\n",
       "    }\n",
       "    progress:not([value]), progress:not([value])::-webkit-progress-bar {\n",
       "        background: repeating-linear-gradient(45deg, #7e7e7e, #7e7e7e 10px, #5c5c5c 10px, #5c5c5c 20px);\n",
       "    }\n",
       "    .progress-bar-interrupted, .progress-bar-interrupted::-webkit-progress-bar {\n",
       "        background: #F44336;\n",
       "    }\n",
       "</style>\n"
      ],
      "text/plain": [
       "<IPython.core.display.HTML object>"
      ]
     },
     "metadata": {},
     "output_type": "display_data"
    },
    {
     "data": {
      "text/html": [
       "<table border=\"1\" class=\"dataframe\">\n",
       "  <thead>\n",
       "    <tr style=\"text-align: left;\">\n",
       "      <th>epoch</th>\n",
       "      <th>train_loss</th>\n",
       "      <th>valid_loss</th>\n",
       "      <th>batch_accuracy</th>\n",
       "      <th>time</th>\n",
       "    </tr>\n",
       "  </thead>\n",
       "  <tbody>\n",
       "    <tr>\n",
       "      <td>0</td>\n",
       "      <td>0.325859</td>\n",
       "      <td>0.411601</td>\n",
       "      <td>0.504907</td>\n",
       "      <td>00:00</td>\n",
       "    </tr>\n",
       "    <tr>\n",
       "      <td>1</td>\n",
       "      <td>0.150409</td>\n",
       "      <td>0.233516</td>\n",
       "      <td>0.798332</td>\n",
       "      <td>00:00</td>\n",
       "    </tr>\n",
       "    <tr>\n",
       "      <td>2</td>\n",
       "      <td>0.082649</td>\n",
       "      <td>0.116558</td>\n",
       "      <td>0.913150</td>\n",
       "      <td>00:00</td>\n",
       "    </tr>\n",
       "    <tr>\n",
       "      <td>3</td>\n",
       "      <td>0.054023</td>\n",
       "      <td>0.078485</td>\n",
       "      <td>0.940628</td>\n",
       "      <td>00:00</td>\n",
       "    </tr>\n",
       "    <tr>\n",
       "      <td>4</td>\n",
       "      <td>0.040843</td>\n",
       "      <td>0.061257</td>\n",
       "      <td>0.954858</td>\n",
       "      <td>00:00</td>\n",
       "    </tr>\n",
       "    <tr>\n",
       "      <td>5</td>\n",
       "      <td>0.034143</td>\n",
       "      <td>0.051604</td>\n",
       "      <td>0.963199</td>\n",
       "      <td>00:00</td>\n",
       "    </tr>\n",
       "    <tr>\n",
       "      <td>6</td>\n",
       "      <td>0.030300</td>\n",
       "      <td>0.045509</td>\n",
       "      <td>0.965653</td>\n",
       "      <td>00:00</td>\n",
       "    </tr>\n",
       "    <tr>\n",
       "      <td>7</td>\n",
       "      <td>0.027805</td>\n",
       "      <td>0.041319</td>\n",
       "      <td>0.967615</td>\n",
       "      <td>00:00</td>\n",
       "    </tr>\n",
       "    <tr>\n",
       "      <td>8</td>\n",
       "      <td>0.026009</td>\n",
       "      <td>0.038248</td>\n",
       "      <td>0.968597</td>\n",
       "      <td>00:00</td>\n",
       "    </tr>\n",
       "    <tr>\n",
       "      <td>9</td>\n",
       "      <td>0.024617</td>\n",
       "      <td>0.035891</td>\n",
       "      <td>0.969578</td>\n",
       "      <td>00:00</td>\n",
       "    </tr>\n",
       "    <tr>\n",
       "      <td>10</td>\n",
       "      <td>0.023491</td>\n",
       "      <td>0.034015</td>\n",
       "      <td>0.972031</td>\n",
       "      <td>00:00</td>\n",
       "    </tr>\n",
       "    <tr>\n",
       "      <td>11</td>\n",
       "      <td>0.022551</td>\n",
       "      <td>0.032479</td>\n",
       "      <td>0.973994</td>\n",
       "      <td>00:00</td>\n",
       "    </tr>\n",
       "    <tr>\n",
       "      <td>12</td>\n",
       "      <td>0.021751</td>\n",
       "      <td>0.031189</td>\n",
       "      <td>0.974485</td>\n",
       "      <td>00:00</td>\n",
       "    </tr>\n",
       "    <tr>\n",
       "      <td>13</td>\n",
       "      <td>0.021059</td>\n",
       "      <td>0.030088</td>\n",
       "      <td>0.975957</td>\n",
       "      <td>00:00</td>\n",
       "    </tr>\n",
       "    <tr>\n",
       "      <td>14</td>\n",
       "      <td>0.020454</td>\n",
       "      <td>0.029132</td>\n",
       "      <td>0.975957</td>\n",
       "      <td>00:00</td>\n",
       "    </tr>\n",
       "    <tr>\n",
       "      <td>15</td>\n",
       "      <td>0.019918</td>\n",
       "      <td>0.028290</td>\n",
       "      <td>0.975957</td>\n",
       "      <td>00:00</td>\n",
       "    </tr>\n",
       "    <tr>\n",
       "      <td>16</td>\n",
       "      <td>0.019438</td>\n",
       "      <td>0.027543</td>\n",
       "      <td>0.976938</td>\n",
       "      <td>00:00</td>\n",
       "    </tr>\n",
       "    <tr>\n",
       "      <td>17</td>\n",
       "      <td>0.019006</td>\n",
       "      <td>0.026874</td>\n",
       "      <td>0.977920</td>\n",
       "      <td>00:00</td>\n",
       "    </tr>\n",
       "    <tr>\n",
       "      <td>18</td>\n",
       "      <td>0.018614</td>\n",
       "      <td>0.026271</td>\n",
       "      <td>0.978410</td>\n",
       "      <td>00:00</td>\n",
       "    </tr>\n",
       "    <tr>\n",
       "      <td>19</td>\n",
       "      <td>0.018255</td>\n",
       "      <td>0.025726</td>\n",
       "      <td>0.978901</td>\n",
       "      <td>00:00</td>\n",
       "    </tr>\n",
       "    <tr>\n",
       "      <td>20</td>\n",
       "      <td>0.017924</td>\n",
       "      <td>0.025230</td>\n",
       "      <td>0.979392</td>\n",
       "      <td>00:00</td>\n",
       "    </tr>\n",
       "    <tr>\n",
       "      <td>21</td>\n",
       "      <td>0.017619</td>\n",
       "      <td>0.024777</td>\n",
       "      <td>0.979882</td>\n",
       "      <td>00:00</td>\n",
       "    </tr>\n",
       "    <tr>\n",
       "      <td>22</td>\n",
       "      <td>0.017335</td>\n",
       "      <td>0.024363</td>\n",
       "      <td>0.980373</td>\n",
       "      <td>00:00</td>\n",
       "    </tr>\n",
       "    <tr>\n",
       "      <td>23</td>\n",
       "      <td>0.017070</td>\n",
       "      <td>0.023981</td>\n",
       "      <td>0.980864</td>\n",
       "      <td>00:00</td>\n",
       "    </tr>\n",
       "    <tr>\n",
       "      <td>24</td>\n",
       "      <td>0.016821</td>\n",
       "      <td>0.023629</td>\n",
       "      <td>0.981354</td>\n",
       "      <td>00:00</td>\n",
       "    </tr>\n",
       "    <tr>\n",
       "      <td>25</td>\n",
       "      <td>0.016588</td>\n",
       "      <td>0.023304</td>\n",
       "      <td>0.981354</td>\n",
       "      <td>00:00</td>\n",
       "    </tr>\n",
       "    <tr>\n",
       "      <td>26</td>\n",
       "      <td>0.016368</td>\n",
       "      <td>0.023003</td>\n",
       "      <td>0.981354</td>\n",
       "      <td>00:00</td>\n",
       "    </tr>\n",
       "    <tr>\n",
       "      <td>27</td>\n",
       "      <td>0.016160</td>\n",
       "      <td>0.022723</td>\n",
       "      <td>0.981354</td>\n",
       "      <td>00:00</td>\n",
       "    </tr>\n",
       "    <tr>\n",
       "      <td>28</td>\n",
       "      <td>0.015963</td>\n",
       "      <td>0.022462</td>\n",
       "      <td>0.981845</td>\n",
       "      <td>00:00</td>\n",
       "    </tr>\n",
       "    <tr>\n",
       "      <td>29</td>\n",
       "      <td>0.015775</td>\n",
       "      <td>0.022220</td>\n",
       "      <td>0.981845</td>\n",
       "      <td>00:00</td>\n",
       "    </tr>\n",
       "    <tr>\n",
       "      <td>30</td>\n",
       "      <td>0.015597</td>\n",
       "      <td>0.021993</td>\n",
       "      <td>0.982336</td>\n",
       "      <td>00:00</td>\n",
       "    </tr>\n",
       "    <tr>\n",
       "      <td>31</td>\n",
       "      <td>0.015427</td>\n",
       "      <td>0.021782</td>\n",
       "      <td>0.982336</td>\n",
       "      <td>00:00</td>\n",
       "    </tr>\n",
       "    <tr>\n",
       "      <td>32</td>\n",
       "      <td>0.015265</td>\n",
       "      <td>0.021584</td>\n",
       "      <td>0.982826</td>\n",
       "      <td>00:00</td>\n",
       "    </tr>\n",
       "    <tr>\n",
       "      <td>33</td>\n",
       "      <td>0.015110</td>\n",
       "      <td>0.021398</td>\n",
       "      <td>0.982826</td>\n",
       "      <td>00:00</td>\n",
       "    </tr>\n",
       "    <tr>\n",
       "      <td>34</td>\n",
       "      <td>0.014961</td>\n",
       "      <td>0.021224</td>\n",
       "      <td>0.982336</td>\n",
       "      <td>00:00</td>\n",
       "    </tr>\n",
       "    <tr>\n",
       "      <td>35</td>\n",
       "      <td>0.014819</td>\n",
       "      <td>0.021060</td>\n",
       "      <td>0.981845</td>\n",
       "      <td>00:00</td>\n",
       "    </tr>\n",
       "    <tr>\n",
       "      <td>36</td>\n",
       "      <td>0.014682</td>\n",
       "      <td>0.020906</td>\n",
       "      <td>0.981845</td>\n",
       "      <td>00:00</td>\n",
       "    </tr>\n",
       "    <tr>\n",
       "      <td>37</td>\n",
       "      <td>0.014550</td>\n",
       "      <td>0.020760</td>\n",
       "      <td>0.981845</td>\n",
       "      <td>00:00</td>\n",
       "    </tr>\n",
       "    <tr>\n",
       "      <td>38</td>\n",
       "      <td>0.014423</td>\n",
       "      <td>0.020622</td>\n",
       "      <td>0.981845</td>\n",
       "      <td>00:00</td>\n",
       "    </tr>\n",
       "    <tr>\n",
       "      <td>39</td>\n",
       "      <td>0.014301</td>\n",
       "      <td>0.020492</td>\n",
       "      <td>0.981845</td>\n",
       "      <td>00:00</td>\n",
       "    </tr>\n",
       "  </tbody>\n",
       "</table>"
      ],
      "text/plain": [
       "<IPython.core.display.HTML object>"
      ]
     },
     "metadata": {},
     "output_type": "display_data"
    }
   ],
   "source": [
    "learn.fit(40, 0.1)"
   ]
  },
  {
   "cell_type": "code",
   "execution_count": 163,
   "metadata": {
    "id": "BlkdB4RnfwD4",
    "outputId": "fbd769f0-d426-456a-b942-d67e25f8f185"
   },
   "outputs": [
    {
     "data": {
      "image/png": "[encoded data removed]",
      "text/plain": [
       "<Figure size 640x480 with 1 Axes>"
      ]
     },
     "metadata": {},
     "output_type": "display_data"
    }
   ],
   "source": [
    "plt.plot(L(learn.recorder.values).itemgot(2));"
   ]
  },
  {
   "cell_type": "code",
   "execution_count": 164,
   "metadata": {
    "id": "CaEKaG3RfwD4",
    "outputId": "b6acc6c6-dbbb-4da9-9a90-b5ce50073eb2"
   },
   "outputs": [
    {
     "data": {
      "text/plain": [
       "0.981844961643219"
      ]
     },
     "execution_count": 164,
     "metadata": {},
     "output_type": "execute_result"
    }
   ],
   "source": [
    "learn.recorder.values[-1][2]"
   ]
  },
  {
   "cell_type": "markdown",
   "metadata": {
    "id": "hbZ98wkcfwD4"
   },
   "source": [
    "### Going Deeper"
   ]
  },
  {
   "cell_type": "code",
   "execution_count": null,
   "metadata": {
    "id": "joBRz8R9fwD4",
    "outputId": "978109c2-b940-4993-d4c1-1ac86504fda6"
   },
   "outputs": [],
   "source": [
    "dls = ImageDataLoaders.from_folder(path)\n",
    "learn = vision_learner(dls, resnet18, pretrained=False,\n",
    "                    loss_func=F.cross_entropy, metrics=accuracy)\n",
    "learn.fit_one_cycle(1, 0.1)"
   ]
  },
  {
   "cell_type": "markdown",
   "metadata": {},
   "source": [
    "<table border=\"1\" class=\"dataframe\">\n",
    "  <thead>\n",
    "    <tr style=\"text-align: left;\">\n",
    "      <th>epoch</th>\n",
    "      <th>train_loss</th>\n",
    "      <th>valid_loss</th>\n",
    "      <th>accuracy</th>\n",
    "      <th>time</th>\n",
    "    </tr>\n",
    "  </thead>\n",
    "  <tbody>\n",
    "    <tr>\n",
    "      <td>0</td>\n",
    "      <td>0.082135</td>\n",
    "      <td>0.014342</td>\n",
    "      <td>0.996565</td>\n",
    "      <td>02:26</td>\n",
    "    </tr>\n",
    "  </tbody>\n",
    "</table>"
   ]
  },
  {
   "cell_type": "markdown",
   "metadata": {
    "id": "c9VPgxs9fwD4"
   },
   "source": [
    "## Jargon Recap"
   ]
  },
  {
   "cell_type": "markdown",
   "metadata": {
    "id": "wGeXbSNEfwD4"
   },
   "source": [
    "Congratulations: you now know how to create and train a deep neural network from scratch! We've gone through quite a few steps to get to this point, but you might be surprised at how simple it really is.\n",
    "\n",
    "Now that we are at this point, it is a good opportunity to define, and review, some jargon and key concepts.\n",
    "\n",
    "A neural network contains a lot of numbers, but they are only of two types: numbers that are calculated, and the parameters that these numbers are calculated from. This gives us the two most important pieces of jargon to learn:\n",
    "\n",
    "- <mark>Activations: Numbers that are calculated (both by linear and nonlinear layers)</mark>\n",
    "- <mark>Parameters: Numbers that are randomly initialized, and optimized (that is, the numbers that define the model)</mark>\n",
    "\n",
    "We will often talk in this book about activations and parameters. Remember that they have very specific meanings. They are numbers. They are not abstract concepts, but they are actual specific numbers that are in your model. Part of becoming a good deep learning practitioner is getting used to the idea of actually looking at your activations and parameters, and plotting them and testing whether they are behaving correctly.\n",
    "\n",
    "Our activations and parameters are all contained in *tensors*. These are simply regularly shaped arrays—for example, a matrix. Matrices have rows and columns; we call these the *axes* or *dimensions*. The number of dimensions of a tensor is its *rank*. There are some special tensors:\n",
    "\n",
    "- Rank zero: scalar\n",
    "- Rank one: vector\n",
    "- Rank two: matrix\n",
    "\n",
    "A neural network contains a number of layers. Each layer is either *linear* or *nonlinear*. We generally alternate between these two kinds of layers in a neural network. Sometimes people refer to both a linear layer and its subsequent nonlinearity together as a single layer. Yes, this is confusing. Sometimes a nonlinearity is referred to as an *activation function*.\n",
    "\n",
    "| Term | Meaning |\n",
    "|------|---------|\n",
    "| ReLU | Function that returns 0 for negative numbers and doesn't change positive numbers. |\n",
    "| Mini-batch | A small group of inputs and labels gathered together in two arrays. A gradient descent step is updated on this batch (rather than a whole epoch). |\n",
    "| Forward pass | Applying the model to some input and computing the predictions. |\n",
    "| Loss | A value that represents how well (or badly) our model is doing. |\n",
    "| Gradient | The derivative of the loss with respect to some parameter of the model. |\n",
    "| Backward pass | Computing the gradients of the loss with respect to all model parameters. |\n",
    "| Gradient descent | Taking a step in the directions opposite to the gradients to make the model parameters a little bit better. |\n",
    "| Learning rate | The size of the step we take when applying SGD to update the parameters of the model. |"
   ]
  },
  {
   "cell_type": "markdown",
   "metadata": {},
   "source": [
    "<mark>\\<mark\\>And that concludes lesson 3 of the course (and chapter 4 of the book) for me. I'll move on with chapter 5 of the book instead of lesson 4 of the course. Let's get all the computer vision stuff done before moving to NLP.\\</mark\\></mark>"
   ]
  }
 ],
 "metadata": {
  "colab": {
   "include_colab_link": true,
   "provenance": []
  },
  "jupytext": {
   "split_at_heading": true
  },
  "kernelspec": {
   "display_name": "ve3916",
   "language": "python",
   "name": "python3"
  },
  "language_info": {
   "codemirror_mode": {
    "name": "ipython",
    "version": 3
   },
   "file_extension": ".py",
   "mimetype": "text/x-python",
   "name": "python",
   "nbconvert_exporter": "python",
   "pygments_lexer": "ipython3",
   "version": "3.9.16"
  }
 },
 "nbformat": 4,
 "nbformat_minor": 0
}
